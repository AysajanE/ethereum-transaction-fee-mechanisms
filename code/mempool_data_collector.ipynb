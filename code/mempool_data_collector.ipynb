{
 "cells": [
  {
   "cell_type": "markdown",
   "id": "13f57c30-7249-4886-8ea0-f253a79abde1",
   "metadata": {},
   "source": [
    "# Ethereum mempool Data Collection\n",
    "\n",
    "[Jochen Hoenicke](https://jochen-hoenicke.de/) started collecting data in December 2020. Please read his own words below:\n",
    "\n",
    "> I started collecting around December 2020 more than half a\n",
    "year before EIP-1559. You can see it visually by using the all range\n",
    "and then zooming in.\n",
    "You can also download the raw data at\n",
    ">https://johoe.jochen-hoenicke.de/queue/ethereum/mempool.log\n",
    "\n",
    ">The data itself is in jsonp, with one line per minute.  Each line\n",
    "starts with timestamp (unix time: seconds since 1970) followed by\n",
    "three arrays for the three charts (in the order txcount, txsize, fee).\n",
    "Each array contains one number for each fee range, the ranges are\n",
    "given in the config in mempool.js.\n",
    "\n",
    ">The file https://mempool.jhoenicke.de/mempool.js starts with a config\n",
    "array, with one entry for every server (BTC, BCH, LTC, etc).   In this\n",
    "you can find the fee ranges configured for ETH.\n",
    "\n",
    ">I think I also had a backup server running at that time, with data at\n",
    "https://jochen-hoenicke.de/queue/eth/mempool.log\n",
    "The data should now be identical, but I think at that time it was\n",
    "generated from a different server."
   ]
  },
  {
   "cell_type": "code",
   "execution_count": 1,
   "id": "a8969df6-a631-405b-b5e0-d1f973db26aa",
   "metadata": {},
   "outputs": [],
   "source": [
    "# Import libraries\n",
    "import requests\n",
    "import pandas as pd\n",
    "import json\n",
    "import csv\n",
    "import ast\n",
    "import datetime"
   ]
  },
  {
   "cell_type": "markdown",
   "id": "133b6457-bee8-4822-960d-ce555293802b",
   "metadata": {},
   "source": [
    "## Download mempool Data"
   ]
  },
  {
   "cell_type": "code",
   "execution_count": null,
   "id": "2f619d85-603f-471d-96e1-009961ba8166",
   "metadata": {},
   "outputs": [],
   "source": [
    "# Define the URL\n",
    "url = \"https://johoe.jochen-hoenicke.de/queue/ethereum/mempool.log\"\n",
    "\n",
    "# Send a GET request to the URL and store the response object\n",
    "response = requests.get(url)\n",
    "\n",
    "# Check if the request was successful\n",
    "if response.status_code == 200:\n",
    "    # Get the raw data as bytes\n",
    "    data = response.content\n",
    "    # Write the data to a file\n",
    "    filename = f\"../data/mempool.csv\"\n",
    "    with open(filename, \"wb\") as f:\n",
    "        f.write(data)\n",
    "    # Print a success message\n",
    "    print(\"Data downloaded successfully!\")\n",
    "else:\n",
    "    # Print an error message\n",
    "    print(f\"Request failed with status code {response.status_code}\")"
   ]
  },
  {
   "cell_type": "markdown",
   "id": "a15bf802-a7a2-47fe-a1f0-42199c1e58af",
   "metadata": {},
   "source": [
    "## Download mempool Backup Data"
   ]
  },
  {
   "cell_type": "code",
   "execution_count": null,
   "id": "e9c1ae14-71d2-4465-8936-1840a76ba72b",
   "metadata": {},
   "outputs": [],
   "source": [
    "# Define the URL\n",
    "url = \"https://jochen-hoenicke.de/queue/eth/mempool.log\" # Backup server\n",
    "\n",
    "# Send a GET request to the URL and store the response object\n",
    "response = requests.get(url)\n",
    "\n",
    "# Check if the request was successful\n",
    "if response.status_code == 200:\n",
    "    # Get the raw data as bytes\n",
    "    data = response.content\n",
    "    # Write the data to a file\n",
    "    filename = f\"../data/mempool_backup.csv\"\n",
    "    with open(filename, \"wb\") as f:\n",
    "        f.write(data)\n",
    "    # Print a success message\n",
    "    print(\"Data downloaded successfully!\")\n",
    "else:\n",
    "    # Print an error message\n",
    "    print(f\"Request failed with status code {response.status_code}\")"
   ]
  },
  {
   "cell_type": "markdown",
   "id": "bace47a7-db27-4efe-8f5a-afea0a11ff7c",
   "metadata": {},
   "source": [
    "## Preprocess the mempool data"
   ]
  },
  {
   "cell_type": "code",
   "execution_count": null,
   "id": "5e9298be-f15c-4dc4-bc30-514720afc7a8",
   "metadata": {},
   "outputs": [],
   "source": [
    "# Load the data\n",
    "df = pd.read_csv(\"../data/mempool.csv\", header=None)\n",
    "\n",
    "# Remove the last column\n",
    "df.drop(df.columns[-1], axis=1, inplace=True)\n",
    "\n",
    "# Clean and processUNIX timestamp\n",
    "df[0] = df[0].str.strip(\"'[]\")\n",
    "df[0] = df[0].astype(int)\n",
    "\n",
    "# Create a new column with datetime values\n",
    "df.insert(1, 'date_time', df[0].apply(lambda x: datetime.datetime.fromtimestamp(x).strftime('%Y-%m-%d %H:%M:%S')))\n",
    "\n",
    "# Clean and process txcount, txsize, and fees\n",
    "for i in range(2, 5):\n",
    "    df[i] = df[i].apply(lambda x: [float(j.strip(\"]\")) for j in str(x).strip('[]').split(',') if j.strip() != ''])\n",
    "\n",
    "# Derive number of recordings each minute\n",
    "n = (df.shape[1] - 2) // 3\n",
    "\n",
    "timestamp_columns = ['timestamp', 'date_time']\n",
    "txcount_columns = ['txcount_' + str(i+1) for i in range(n)]\n",
    "txsize_columns = ['txsize_' + str(i+1) for i in range(n)]\n",
    "fee_columns = ['fee_' + str(i+1) for i in range(n)]\n",
    "column_names = timestamp_columns + txcount_columns + txsize_columns + fee_columns\n",
    "\n",
    "# Renaming columns\n",
    "df.columns = column_names\n",
    "\n",
    "# Task (8)\n",
    "df.to_csv(\"../data/cleaned_mempool.csv\", index=False)\n"
   ]
  },
  {
   "cell_type": "markdown",
   "id": "6cd20412-7b2d-4fd7-95f7-c78032bd4b97",
   "metadata": {},
   "source": [
    "## Final Process the mempool Data\n",
    "Somehow there are still trailing square brackets after preprocessing. The script below deletes all those trailing brackets."
   ]
  },
  {
   "cell_type": "code",
   "execution_count": null,
   "id": "81b4b6d8-4177-4063-b185-da09db77f9ea",
   "metadata": {},
   "outputs": [],
   "source": [
    "def clean_tx(tx):\n",
    "    tx = tx.replace('[', '')\n",
    "    tx = tx.replace(']', '')\n",
    "    return tx\n",
    "\n",
    "def clean_csv(input_file_path, output_file_path):\n",
    "    with open(input_file_path, 'r') as input_file, open(output_file_path, 'w', newline='') as output_file:\n",
    "        reader = csv.reader(input_file)\n",
    "        writer = csv.writer(output_file)\n",
    "        for row in reader:\n",
    "            cleaned_row = [clean_tx(cell) for cell in row]\n",
    "            writer.writerow(cleaned_row)"
   ]
  },
  {
   "cell_type": "code",
   "execution_count": null,
   "id": "b0ea659c-45a1-4b14-ba62-de2898266ca5",
   "metadata": {},
   "outputs": [],
   "source": [
    "# Final process\n",
    "clean_csv(\"../data/cleaned_mempool.csv\", \"../data/final_mempool.csv\")"
   ]
  },
  {
   "cell_type": "markdown",
   "id": "247532f3-99f0-4162-b990-294a39e3c847",
   "metadata": {},
   "source": [
    "## mempool.js for config\n",
    "\n",
    "The `mempool` data itself is in jsonp, with one line per minute.  Each line\n",
    "starts with timestamp (unix time: seconds since 1970) followed by\n",
    "three arrays for the three charts (in the order txcount, txsize, fee).\n",
    "Each array contains one number for each fee range, the ranges are\n",
    "given in the config in mempool.js.\n",
    "\n",
    "The file https://mempool.jhoenicke.de/mempool.js starts with a config\n",
    "array, with one entry for every server (BTC, BCH, LTC, etc).   In this\n",
    "you can find the fee ranges configured for ETH."
   ]
  },
  {
   "cell_type": "code",
   "execution_count": 2,
   "id": "ac43006b-d3ff-4eae-ac9b-fa82b7da7caa",
   "metadata": {},
   "outputs": [],
   "source": [
    "import requests\n",
    "\n",
    "url = \"https://mempool.jhoenicke.de/mempool.js\"\n",
    "response = requests.get(url)\n",
    "\n",
    "# Make sure the request was successful\n",
    "if response.status_code == 200:\n",
    "    # Open the file in write mode\n",
    "    with open('../data/mempool.js', 'w') as f:\n",
    "        # Write the contents of the response to the file\n",
    "        f.write(response.text)\n",
    "else:\n",
    "    print(f\"Failed to download file. Status code: {response.status_code}\")"
   ]
  },
  {
   "cell_type": "code",
   "execution_count": null,
   "id": "d5f8f8c5-15a6-49a7-bfcc-2b783be0f7cf",
   "metadata": {},
   "outputs": [],
   "source": []
  }
 ],
 "metadata": {
  "kernelspec": {
   "display_name": "jom-blockchain",
   "language": "python",
   "name": "jom-blockchain-research"
  },
  "language_info": {
   "codemirror_mode": {
    "name": "ipython",
    "version": 3
   },
   "file_extension": ".py",
   "mimetype": "text/x-python",
   "name": "python",
   "nbconvert_exporter": "python",
   "pygments_lexer": "ipython3",
   "version": "3.11.3"
  }
 },
 "nbformat": 4,
 "nbformat_minor": 5
}
