{
 "cells": [
  {
   "cell_type": "markdown",
   "id": "457fd48e-b5d3-42fd-a051-0abccf429c1b",
   "metadata": {},
   "source": [
    "# Compute Net Supply Increase at Each Block"
   ]
  },
  {
   "cell_type": "markdown",
   "id": "cc941cb7-009e-4350-a880-b82cf2d282c1",
   "metadata": {},
   "source": [
    "To accurately compute the newt Ether supply increase at each block, we need to take into account block rewards, uncle rewards, nephew rewards (i.e., uncle inclusion rewards), and burned fees (after EIP-1559)."
   ]
  },
  {
   "cell_type": "code",
   "execution_count": 2,
   "id": "dbeb96bf-a34e-47a7-9b5d-c779c4900249",
   "metadata": {},
   "outputs": [],
   "source": [
    "import os\n",
    "import time\n",
    "import csv\n",
    "import concurrent.futures\n",
    "from concurrent.futures import ProcessPoolExecutor, as_completed\n",
    "\n",
    "import pandas as pd\n",
    "from web3 import Web3\n",
    "\n",
    "from block_processing import process_block, calculate_burned_fee, calculate_uncle_and_inclusion_reward, setup_web3\n"
   ]
  },
  {
   "cell_type": "code",
   "execution_count": 3,
   "id": "addcc5a7-1200-4e1a-981a-9e7e58d4990b",
   "metadata": {},
   "outputs": [
    {
     "name": "stdout",
     "output_type": "stream",
     "text": [
      "True\n"
     ]
    }
   ],
   "source": [
    "# Use Infura API endpoint\n",
    "infura_url = os.getenv(\"INFURA_MAINNET_URL\")\n",
    "\n",
    "if not infura_url:\n",
    "    raise ValueError(\"INFURA_URL is not set in the environment variables\")\n",
    "\n",
    "web3 = setup_web3(infura_url)\n",
    "\n",
    "# # Use Ethereum node on local machine\n",
    "# node_url = 'http://localhost:8545'\n",
    "# web3 = Web3(Web3.HTTPProvider(node_url))\n",
    "\n",
    "# Check if the connection is successful\n",
    "print(web3.is_connected())  # should return True if the connection is successful"
   ]
  },
  {
   "cell_type": "code",
   "execution_count": 7,
   "id": "f727849a-b5ca-46b2-8643-d43041d03550",
   "metadata": {},
   "outputs": [],
   "source": [
    "# Constants\n",
    "MAX_WORKERS = 10  # Number of worker threads for concurrent execution.\n",
    "BUFFER_SIZE = 100000\n",
    "\n",
    "# The block number at 2021-02-05 is 11794239\n",
    "# The block number at 2022-02-05 is 14143963\n",
    "block_ranges = [\n",
    "    (11794239, 12000000),  # First run\n",
    "    (12000001, 12250000),  # Second run\n",
    "    (12250001, 12500000),  # Third run\n",
    "    (12500001, 12750000),  # Fourth run\n",
    "    (12750001, 13000000),  # Fifth run\n",
    "    (13000001, 13250000),  # Sixth run\n",
    "    (13250001, 13500000),  # Seventh run\n",
    "    (13500001, 13750000),  # Eighth run\n",
    "    (13750001, 14000000),  # Ninth run\n",
    "    (14000001, 14143963),  # Tenth run\n",
    "    # Add more ranges as needed\n",
    "]\n",
    "\n",
    "# Manually set the current range index each time you run the script\n",
    "current_range_index = 0  # Set to 0 for first run, 1 for second run, etc."
   ]
  },
  {
   "cell_type": "code",
   "execution_count": 8,
   "id": "87e64e49-e5fb-46af-805a-d7af88d78738",
   "metadata": {},
   "outputs": [],
   "source": [
    "def process_blocks(start_block, end_block, filename):\n",
    "    \"\"\"\n",
    "    This function processes a range of blocks using ProcessPoolExecutor for concurrency, and writes the results to a file periodically.\n",
    "\n",
    "    Args:\n",
    "        start_block (int): The number of the first block to process.\n",
    "        end_block (int): The number of the last block to process.\n",
    "        filename (str): The name of the file to write the results to.\n",
    "\n",
    "    Returns:\n",
    "        None\n",
    "    \"\"\"\n",
    "    blocks = list(range(start_block, end_block+1))\n",
    "    buffer = []\n",
    "\n",
    "    with ProcessPoolExecutor(max_workers=MAX_WORKERS) as executor:\n",
    "        futures_to_blocks = {executor.submit(process_block, block): block for block in blocks}\n",
    "        for future in as_completed(futures_to_blocks):\n",
    "            try:\n",
    "                result = future.result()\n",
    "                if result is not None:\n",
    "                    buffer.append(result)\n",
    "                    if len(buffer) >= BUFFER_SIZE:\n",
    "                        df = pd.DataFrame(buffer)\n",
    "                        df.to_csv(filename, mode='a', index=False)\n",
    "                        buffer = []\n",
    "            except Exception as e:\n",
    "                print(f\"Error processing block {futures_to_blocks[future]}: {str(e)}\")\n",
    "                print(traceback.format_exc())\n",
    "        if buffer:  # write remaining data in buffer\n",
    "            df = pd.DataFrame(buffer)\n",
    "            df.to_csv(filename, mode='a', index=False)"
   ]
  },
  {
   "cell_type": "markdown",
   "id": "5b80c959-8397-4eba-ace3-96ee87f25f33",
   "metadata": {},
   "source": [
    "Split the data collection into several consecutive runs, rather than one single run."
   ]
  },
  {
   "cell_type": "code",
   "execution_count": null,
   "id": "cc0dca19-4360-4b5b-b610-ff5e5985ba95",
   "metadata": {},
   "outputs": [],
   "source": [
    "# Collect data in different runs consecutively instead of all at once.\n",
    "for start_block, end_block in block_ranges:\n",
    "    # Generate unique filename for each run\n",
    "    filename = f\"../data/eth_net_supply_{start_block}_{end_block}.csv\"\n",
    "    print(f\"Processing from block {start_block} to {end_block}\")\n",
    "    # Call the function to process the blocks\n",
    "    process_blocks(start_block, end_block, filename)\n",
    "    time.sleep(10)  # Add delay if needed"
   ]
  },
  {
   "cell_type": "code",
   "execution_count": null,
   "id": "ebdcd051-8100-4dcf-a44e-d8f7fd6d0b43",
   "metadata": {},
   "outputs": [],
   "source": []
  }
 ],
 "metadata": {
  "kernelspec": {
   "display_name": "jom-blockchain",
   "language": "python",
   "name": "jom-blockchain-research"
  },
  "language_info": {
   "codemirror_mode": {
    "name": "ipython",
    "version": 3
   },
   "file_extension": ".py",
   "mimetype": "text/x-python",
   "name": "python",
   "nbconvert_exporter": "python",
   "pygments_lexer": "ipython3",
   "version": "3.11.3"
  }
 },
 "nbformat": 4,
 "nbformat_minor": 5
}
