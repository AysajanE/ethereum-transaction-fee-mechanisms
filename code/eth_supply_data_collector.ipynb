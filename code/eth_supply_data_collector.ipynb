{
 "cells": [
  {
   "cell_type": "markdown",
   "id": "457fd48e-b5d3-42fd-a051-0abccf429c1b",
   "metadata": {},
   "source": [
    "# Compute Net Supply Increase at Each Block"
   ]
  },
  {
   "cell_type": "markdown",
   "id": "cc941cb7-009e-4350-a880-b82cf2d282c1",
   "metadata": {},
   "source": [
    "To accurately compute the newt Ether supply increase at each block, we need to take into account block rewards, uncle rewards, nephew rewards (i.e., uncle inclusion rewards), and burned fees (after EIP-1559)."
   ]
  },
  {
   "cell_type": "code",
   "execution_count": 1,
   "id": "dbeb96bf-a34e-47a7-9b5d-c779c4900249",
   "metadata": {},
   "outputs": [],
   "source": [
    "import os\n",
    "import concurrent.futures\n",
    "import pandas as pd\n",
    "\n",
    "from web3 import Web3\n",
    "from web3.exceptions import BlockNotFound"
   ]
  },
  {
   "cell_type": "code",
   "execution_count": 2,
   "id": "0595f7cc-9727-4c66-aa4a-67b1d0b7a68d",
   "metadata": {},
   "outputs": [],
   "source": [
    "def setup_web3(endpoint):\n",
    "    \"\"\"\n",
    "    Initialize a Web3 instance with the given endpoint.\n",
    "    \n",
    "    Args:\n",
    "        endpoint (str): The HTTP provider endpoint to connect to.\n",
    "    \n",
    "    Returns:\n",
    "        Web3: A Web3 instance connected to the provided endpoint.\n",
    "    \"\"\"\n",
    "    return Web3(Web3.HTTPProvider(endpoint))"
   ]
  },
  {
   "cell_type": "code",
   "execution_count": 3,
   "id": "addcc5a7-1200-4e1a-981a-9e7e58d4990b",
   "metadata": {},
   "outputs": [
    {
     "name": "stdout",
     "output_type": "stream",
     "text": [
      "True\n"
     ]
    }
   ],
   "source": [
    "# Use Infura API endpoint\n",
    "infura_url = os.getenv(\"INFURA_MAINNET_URL\")\n",
    "\n",
    "if not infura_url:\n",
    "    raise ValueError(\"INFURA_URL is not set in the environment variables\")\n",
    "\n",
    "web3 = setup_web3(infura_url)\n",
    "\n",
    "# # Use Ethereum node on local machine\n",
    "# node_url = 'http://localhost:8545'\n",
    "# web3 = Web3(Web3.HTTPProvider(node_url))\n",
    "print(web3.is_connected())  # should return True if the connection is successful"
   ]
  },
  {
   "cell_type": "code",
   "execution_count": 4,
   "id": "f727849a-b5ca-46b2-8643-d43041d03550",
   "metadata": {},
   "outputs": [],
   "source": [
    "# Constants\n",
    "EIP_1559_BLOCK = 12965000  # Block number where EIP-1559 is implemented.\n",
    "STATIC_REWARD = 2e18  # Static reward since Constantinople.\n",
    "MAX_WORKERS = 10  # Number of worker threads for concurrent execution."
   ]
  },
  {
   "cell_type": "code",
   "execution_count": 5,
   "id": "fbf5c058-f0aa-4545-bf8e-b14912fbc50a",
   "metadata": {},
   "outputs": [],
   "source": [
    "def process_block(block_num):\n",
    "    \"\"\"\n",
    "    This function processes a single block identified by its number.\n",
    "    It retrieves the block details, computes the static reward, uncle reward, and inclusion reward.\n",
    "    It also calculates the burned fee after EIP-1559.\n",
    "    \n",
    "    Args:\n",
    "        block_num (int): The number of the block to process.\n",
    "        \n",
    "    Returns:\n",
    "        dict: A dictionary containing the block reward details.\n",
    "        \n",
    "    Raises:\n",
    "        Any exceptions raised during block processing are caught and printed.\n",
    "    \"\"\"\n",
    "    try:\n",
    "        # Get block details\n",
    "        block = web3.eth.get_block(block_num, True)\n",
    "        \n",
    "        # Calculate uncle reward and inclusion reward\n",
    "        uncle_reward, inclusion_reward = calculate_uncle_and_inclusion_reward(block, block_num)\n",
    "        \n",
    "        # Calculate burned fee\n",
    "        burned_fee, base_fee_per_gas, gas_used = calculate_burned_fee(block, block_num)\n",
    "\n",
    "        # Compute net supply increase\n",
    "        net_supply_increase = STATIC_REWARD + uncle_reward + inclusion_reward - burned_fee\n",
    "\n",
    "        return {\n",
    "            'block_number': block_num,\n",
    "            'static_reward': STATIC_REWARD,\n",
    "            'uncle_reward': uncle_reward,\n",
    "            'inclusion_reward': inclusion_reward,\n",
    "            'base_fee': base_fee_per_gas,\n",
    "            'gas_used': gas_used,\n",
    "            'burned_fee': burned_fee,\n",
    "            'net_supply_increase': net_supply_increase\n",
    "        }\n",
    "    except Exception as e:\n",
    "        print(f\"Error processing block {block_num}: {str(e)}\")\n",
    "        return None\n",
    "\n",
    "def calculate_uncle_and_inclusion_reward(block, block_num):\n",
    "    \"\"\"\n",
    "    This function calculates the uncle reward and the inclusion reward for a given block.\n",
    "    \n",
    "    Args:\n",
    "        block (dict): The block details.\n",
    "        block_num (int): The number of the block to process.\n",
    "        \n",
    "    Returns:\n",
    "        tuple: A tuple containing uncle_reward and inclusion_reward.\n",
    "    \"\"\"\n",
    "    uncle_reward = 0\n",
    "    inclusion_reward = 0\n",
    "    for i in range(len(block['uncles'])):\n",
    "        uncle_block = web3.eth.get_uncle_by_block(block_num, i)\n",
    "        uncle_age = block['number'] - int(uncle_block['number'], 16)\n",
    "        uncle_reward += ((8 - uncle_age) / 8) * STATIC_REWARD\n",
    "        inclusion_reward += STATIC_REWARD / 32\n",
    "    return uncle_reward, inclusion_reward\n",
    "\n",
    "def calculate_burned_fee(block, block_num):\n",
    "    \"\"\"\n",
    "    This function calculates the burned fee for a given block after EIP-1559.\n",
    "    \n",
    "    Args:\n",
    "        block (dict): The block details.\n",
    "        block_num (int): The number of the block to process.\n",
    "        \n",
    "    Returns:\n",
    "        tuple: A tuple containing burned_fee, base_fee_per_gas, and gas_used.\n",
    "    \"\"\"\n",
    "    burned_fee = 0\n",
    "    base_fee_per_gas = 0\n",
    "    gas_used = block['gasUsed']\n",
    "    if block_num >= EIP_1559_BLOCK:\n",
    "        base_fee_per_gas = block['baseFeePerGas']\n",
    "        burned_fee = base_fee_per_gas * gas_used\n",
    "    return burned_fee, base_fee_per_gas, gas_used\n",
    "\n",
    "def process_blocks(start_block, end_block):\n",
    "    \"\"\"\n",
    "    This function processes a range of blocks using ThreadPoolExecutor for concurrency.\n",
    "    \n",
    "    Args:\n",
    "        start_block (int): The number of the first block to process.\n",
    "        end_block (int): The number of the last block to process.\n",
    "        \n",
    "    Returns:\n",
    "        DataFrame: A pandas DataFrame containing the block reward details for each processed block.\n",
    "    \"\"\"\n",
    "    with concurrent.futures.ThreadPoolExecutor(max_workers=MAX_WORKERS) as executor:\n",
    "        blocks = list(range(start_block, end_block+1))\n",
    "        results = filter(None, executor.map(process_block, blocks))\n",
    "        return pd.DataFrame(results)\n",
    "\n",
    "def save_to_csv(data, filename):\n",
    "    \"\"\"\n",
    "    This function saves a pandas DataFrame to a CSV file.\n",
    "    \n",
    "    Args:\n",
    "        data (DataFrame): The pandas DataFrame to save.\n",
    "        filename (str): The name of the CSV file.\n",
    "    \"\"\"\n",
    "    data.to_csv(filename, index=False)"
   ]
  },
  {
   "cell_type": "code",
   "execution_count": 6,
   "id": "f17f9c8d-4757-4240-8da4-bc0b417ea806",
   "metadata": {},
   "outputs": [],
   "source": [
    "# Process the blocks and save to CSV\n",
    "start_block = 12964990\n",
    "end_block = 12965010\n",
    "\n",
    "result = process_blocks(start_block, end_block)\n",
    "filename = f\"../data/block_supply_net_increase.csv\"\n",
    "save_to_csv(result, filename)  # Save the result in a CSV file named 'block_rewards.csv'"
   ]
  },
  {
   "cell_type": "code",
   "execution_count": null,
   "id": "caf5fbb7-b5df-4e46-93bb-99bcb6fa729d",
   "metadata": {},
   "outputs": [],
   "source": []
  }
 ],
 "metadata": {
  "kernelspec": {
   "display_name": "jom-blockchain",
   "language": "python",
   "name": "jom-blockchain-research"
  },
  "language_info": {
   "codemirror_mode": {
    "name": "ipython",
    "version": 3
   },
   "file_extension": ".py",
   "mimetype": "text/x-python",
   "name": "python",
   "nbconvert_exporter": "python",
   "pygments_lexer": "ipython3",
   "version": "3.11.3"
  }
 },
 "nbformat": 4,
 "nbformat_minor": 5
}
