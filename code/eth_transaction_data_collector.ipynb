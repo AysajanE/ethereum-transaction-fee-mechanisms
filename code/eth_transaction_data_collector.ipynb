{
 "cells": [
  {
   "cell_type": "markdown",
   "id": "bc7fcb88-e91f-466a-bd78-bd939066170d",
   "metadata": {},
   "source": [
    "# Transaction Data Collection from the Ethereum Blockchain\n",
    "\n",
    "## EIP-1559\n",
    "- Date: August 5, 2021\n",
    "- Block number: 12,965,000\n",
    "- [Ethereum JSON-RPC Specification](https://ethereum.github.io/execution-apis/api-documentation/)\n",
    "- [JSON RPC API](https://ethereum.org/en/developers/docs/apis/json-rpc/)\n",
    "- [EIP-1559 Analysis Arxiv](https://github.com/SciEcon/EIP1559)\n",
    "\n",
    "## Layer 2 Solutions Launch Dates\n",
    "Source: [L2BEAT](https://l2beat.com/scaling/tvl)\n",
    "1. Optimism is live on: January 16, 2021\n",
    "2. Arbitrum is live on: August 31, 2021"
   ]
  },
  {
   "cell_type": "code",
   "execution_count": 1,
   "id": "b96bfeff-e267-40ec-9123-6cd03d04db92",
   "metadata": {},
   "outputs": [],
   "source": [
    "# !pip install web3\n",
    "# !pip install pandas"
   ]
  },
  {
   "cell_type": "code",
   "execution_count": 2,
   "id": "4d46b85a-a478-4e4c-b1f5-0ccc63b33ba3",
   "metadata": {},
   "outputs": [],
   "source": [
    "import datetime\n",
    "import csv\n",
    "import os\n",
    "from datetime import datetime\n",
    "import concurrent.futures\n",
    "\n",
    "import pandas as pd\n",
    "from collections import defaultdict\n",
    "\n",
    "from web3 import Web3\n",
    "import eth_abi"
   ]
  },
  {
   "cell_type": "code",
   "execution_count": 3,
   "id": "30c21d92-0239-43d4-b610-c016dc9e7809",
   "metadata": {},
   "outputs": [],
   "source": [
    "def setup_web3(endpoint):\n",
    "    \"\"\"\n",
    "    Initialize a Web3 instance with the given endpoint.\n",
    "    \n",
    "    Args:\n",
    "        endpoint (str): The HTTP provider endpoint to connect to.\n",
    "    \n",
    "    Returns:\n",
    "        Web3: A Web3 instance connected to the provided endpoint.\n",
    "    \"\"\"\n",
    "    return Web3(Web3.HTTPProvider(endpoint))"
   ]
  },
  {
   "cell_type": "markdown",
   "id": "9edbaf9d-3919-4a40-a0bb-89d5971944b2",
   "metadata": {},
   "source": [
    "---\n",
    "Here is a Python function that uses binary search to find the block number for a given timestamp. This function accepts a target timestamp (in seconds), a Web3 instance for blockchain interaction, and optionally a start and end block to search between. If end_block is not specified, the search is performed up to the latest block. The function performs a binary search to find the block with the timestamp closest to the target."
   ]
  },
  {
   "cell_type": "code",
   "execution_count": 4,
   "id": "6128aecd-9417-4497-a787-3c3f740e5727",
   "metadata": {},
   "outputs": [],
   "source": [
    "def get_block_number_by_timestamp(web3, target_timestamp, start_block=0, end_block=None):\n",
    "    \"\"\"\n",
    "    Retrieve the block number for a specific timestamp using binary search.\n",
    "    \n",
    "    Args:\n",
    "        web3 (Web3): A Web3 instance for interacting with the Ethereum blockchain.\n",
    "        target_timestamp (int): The timestamp (in seconds) to find the block for.\n",
    "        start_block (int, optional): The block number to start the search from. Defaults to 0.\n",
    "        end_block (int, optional): The block number to end the search at. If None, the latest block number is used.\n",
    "    \n",
    "    Returns:\n",
    "        int: The block number closest to the target timestamp.\n",
    "    \"\"\"\n",
    "    if end_block is None:\n",
    "        end_block = web3.eth.block_number  # Use the latest block number if end_block is not specified\n",
    "    \n",
    "    while start_block <= end_block:\n",
    "        mid_block = (start_block + end_block) // 2\n",
    "        mid_block_timestamp = web3.eth.get_block(mid_block)['timestamp']\n",
    "        \n",
    "        if target_timestamp < mid_block_timestamp:\n",
    "            end_block = mid_block - 1\n",
    "        elif target_timestamp > mid_block_timestamp:\n",
    "            start_block = mid_block + 1\n",
    "        else:\n",
    "            return mid_block\n",
    "\n",
    "    # If exact timestamp is not found, return the closest block\n",
    "    if abs(web3.eth.get_block(start_block)['timestamp'] - target_timestamp) < abs(web3.eth.get_block(end_block)['timestamp'] - target_timestamp):\n",
    "        return start_block\n",
    "    else:\n",
    "        return end_block"
   ]
  },
  {
   "cell_type": "markdown",
   "id": "3df22490-ef18-48e8-aace-0b6b195946ff",
   "metadata": {},
   "source": [
    "To use this function, you would first convert your dates to Unix timestamps (seconds since Jan 1, 1970). You can do this using Python's built-in datetime module:"
   ]
  },
  {
   "cell_type": "code",
   "execution_count": 5,
   "id": "600db6e9-0b3a-4705-975d-7b3c6fc6fa1e",
   "metadata": {},
   "outputs": [],
   "source": [
    "def timestamp(date_string):\n",
    "    \"\"\"\n",
    "    Convert a date string to a Unix timestamp.\n",
    "    \n",
    "    Args:\n",
    "        date_string (str): The date string in 'YYYY-MM-DD' format.\n",
    "    \n",
    "    Returns:\n",
    "        int: The Unix timestamp corresponding to the date string.\n",
    "    \"\"\"\n",
    "    dt = datetime.strptime(date_string, \"%Y-%m-%d\")\n",
    "    return int(dt.timestamp())\n"
   ]
  },
  {
   "cell_type": "markdown",
   "id": "d6e6342e-1042-4233-815c-3699ec450ad4",
   "metadata": {},
   "source": [
    "---\n",
    "To implement the token transfer detection, you would need the `eth_abi` package to decode contract input data and a way to check if a given address is a contract address. However, please note that correctly detecting and classifying all Ethereum transaction types with 100% accuracy is a complex task and requires deep analysis of the input data and possibly contract state. Therefore, the following simplified approach may not catch every edge case."
   ]
  },
  {
   "cell_type": "code",
   "execution_count": 12,
   "id": "b7a79f30-fca3-44fc-9bf0-ef43f565d6fc",
   "metadata": {},
   "outputs": [],
   "source": [
    "def is_contract(web3, address):\n",
    "    \"\"\"\n",
    "    Determine if an address is a contract address.\n",
    "    \"\"\"\n",
    "    return web3.eth.get_code(address) != b''"
   ]
  },
  {
   "cell_type": "markdown",
   "id": "5b53ec6c-9696-4ff9-86e4-b714347a4397",
   "metadata": {},
   "source": [
    "The process to identify if a transaction is a simple Ether transfer, Token transfer, or Smart contract interaction is not straightforward because of the versatile nature of Ethereum transactions. \n",
    "\n",
    "1. **Simple Ether Transfers:** These are transactions where Ether is transferred from one account to another. These transactions can be identified by checking if the `input` data field is '0x' (i.e., empty) and the `to` field is not a contract address (it doesn't have associated bytecode).\n",
    "\n",
    "2. **Token Transfers (ERC-20, ERC-721, etc.):** These are transactions where tokens (like USDT, DAI, etc.) are transferred. Token transfers follow a standard set of rules defined in the ERC-20 or ERC-721 specifications. One of the main methods in these specifications is `transfer(...)`. When this method is called, the `input` data field in the transaction starts with the method ID derived from the keccak256 hash of the method signature. For example, the `transfer(...)` method's ID is '0xa9059cbb'. So, you could identify ERC-20 token transfers by checking if the `input` field starts with this method ID. However, this check can yield false positives, as other contracts can use the same method ID for different purposes. Identifying ERC-721 (NFT) transfers can be more challenging, as multiple methods (`safeTransferFrom(...)`, `transferFrom(...)`, etc.) can be used to transfer tokens. \n",
    "\n",
    "3. **Smart Contract Interactions:** If the `input` data field is not '0x' (empty), and the `input` does not correspond to a standard ERC-20 or ERC-721 token transfer, you can classify the transaction as a smart contract interaction.\n",
    "\n",
    "Please note that these checks provide a rough classification of the transactions but aren't perfect. For example, they don't account for cases where a single transaction involves both Ether and token transfers or multiple types of contract interactions. Further, they don't cover all token standards (like ERC-1155, which allows for both fungible and non-fungible tokens).\n",
    "\n",
    "As a result, if you need a precise classification of transaction types, you might need to employ more sophisticated methods, such as analyzing the bytecode of contracts, tracking the state changes of known contracts, or using specialized services or libraries that provide this kind of analysis.\n",
    "\n",
    "---"
   ]
  },
  {
   "cell_type": "markdown",
   "id": "a18d821b-b2c6-41ae-aab6-d471caaae045",
   "metadata": {},
   "source": [
    "## Data Collection\n",
    "\n",
    "For the data collection, we use Python's `concurrent.futures` library to parallelize the extraction of block data. The key here is to split the block range into smaller ranges, and handle each of these ranges concurrently using a separate thread."
   ]
  },
  {
   "cell_type": "code",
   "execution_count": 13,
   "id": "ce9b353d-4b2e-4179-8953-122ad2e66816",
   "metadata": {},
   "outputs": [],
   "source": [
    "from concurrent.futures import ThreadPoolExecutor\n",
    "\n",
    "def extract_block_data(web3, block):\n",
    "    \"\"\"\n",
    "    Extracts transaction data from a block.\n",
    "    \"\"\"\n",
    "    ERC20_TRANSFER_SIGNATURE = '0xa9059cbb'\n",
    "    block_data = web3.eth.get_block(block, full_transactions=True)\n",
    "    data = []\n",
    "    for tx in block_data['transactions']:\n",
    "        # Define transaction type\n",
    "        if tx['input'] == '0x' and not is_contract(web3, tx['to']):\n",
    "            tx_type = 'Simple Ether Transfer'\n",
    "        elif tx['input'][:10] == ERC20_TRANSFER_SIGNATURE:\n",
    "            tx_type = 'Token Transfer'\n",
    "        else:\n",
    "            tx_type = 'Smart Contract Interaction'\n",
    "\n",
    "        # Define EIP-1559 type\n",
    "        eip_1559_type = 'Legacy' if tx['type'] in ['0x0', '0x1'] else 'EIP-1559' if tx['type'] == '0x2' else 'Unknown'\n",
    "\n",
    "        tx_data = {\n",
    "            'Transaction Identifier': tx['hash'].hex(),\n",
    "            'Block Number': block,\n",
    "            'Transaction Timestamp': block_data['timestamp'],\n",
    "            'Transaction Status': 'Success' if tx['to'] is not None else 'Failed',\n",
    "            'Gas Price': tx['gasPrice'],\n",
    "            'Transaction Fee': tx['gas'] * tx['gasPrice'],\n",
    "            'Sender\\'s Address': tx['from'],\n",
    "            'Transaction Type': tx_type,\n",
    "            'Transaction EIP-1559 Type': eip_1559_type\n",
    "        }\n",
    "        data.append(tx_data)\n",
    "    return data\n",
    "\n",
    "def collect_data(web3, start_block, end_block):\n",
    "    \"\"\"\n",
    "    Collect transaction data from a range of blocks on the Ethereum blockchain.\n",
    "    \"\"\"\n",
    "    data = []\n",
    "\n",
    "    with ThreadPoolExecutor() as executor:\n",
    "        for block_data in executor.map(lambda block: extract_block_data(web3, block), range(start_block, end_block + 1)):\n",
    "            data.extend(block_data)\n",
    "\n",
    "    return data\n"
   ]
  },
  {
   "cell_type": "markdown",
   "id": "b00652f2-ea8f-48b0-892b-875f3986ac68",
   "metadata": {},
   "source": [
    "This script above now identifies simple Ether transfers, token transfers, and smart contract interactions according to the descriptions. It uses the `getCode` function to check if the `to` address is a contract, and checks the first 4 bytes (8 hex characters) of the `input` field against the method ID for the ERC-20 `transfer` function to identify token transfers. If the `input` field is not empty and doesn't correspond to a token transfer, the transaction is classified as a smart contract interaction.\n",
    "\n",
    "In this code, the `ThreadPoolExecutor` manages a pool of worker threads. The `executor.map` function is used to apply the `extract_block_data` function to each block number in the specified range. The result is a list of transaction data for each block, which is then appended to the data list.\n",
    "\n",
    "This approach should significantly speed up data collection by utilizing multiple cores and threads on your machine. The actual speedup depends on the number of cores and threads your machine has, as well as other factors like network latency and the I/O performance of your machine.\n",
    "\n",
    "---"
   ]
  },
  {
   "cell_type": "markdown",
   "id": "55c989cb-b199-439d-b822-a32e9acacf98",
   "metadata": {},
   "source": [
    "## Steps to Collect Data"
   ]
  },
  {
   "cell_type": "markdown",
   "id": "d92c11e4-2685-4164-966f-4aef6ccef312",
   "metadata": {},
   "source": [
    "### Step 1: Initialize a Web3 instance with my Infura endpoint."
   ]
  },
  {
   "cell_type": "code",
   "execution_count": 14,
   "id": "bac06d93-78be-4e54-9546-2bf8bf51bac3",
   "metadata": {},
   "outputs": [
    {
     "name": "stdout",
     "output_type": "stream",
     "text": [
      "True\n"
     ]
    }
   ],
   "source": [
    "infura_url = os.getenv(\"INFURA_MAINNET_URL\")\n",
    "\n",
    "if not infura_url:\n",
    "    raise ValueError(\"INFURA_URL is not set in the environment variables\")\n",
    "\n",
    "web3 = setup_web3(infura_url)\n",
    "print(web3.is_connected())  # should return True if the connection is successful"
   ]
  },
  {
   "cell_type": "markdown",
   "id": "97803d93-be43-4e64-b193-8cca2b32de85",
   "metadata": {},
   "source": [
    "### Step 2: Convert my start and end dates to Unix timestamps and then to block numbers."
   ]
  },
  {
   "cell_type": "code",
   "execution_count": 15,
   "id": "fd293df6-3407-4073-a1b8-4d40c30050ab",
   "metadata": {},
   "outputs": [
    {
     "name": "stdout",
     "output_type": "stream",
     "text": [
      "The block number at 2021-08-04 is 12956450\n",
      "The block number at 2021-08-05 is 12962754\n"
     ]
    }
   ],
   "source": [
    "# Run only once to get the start block and end block for the specified time period\n",
    "start_date = \"2021-08-04\"\n",
    "end_date = \"2021-08-05\"\n",
    "\n",
    "start_timestamp = timestamp(start_date)\n",
    "end_timestamp = timestamp(end_date)\n",
    "\n",
    "start_block = get_block_number_by_timestamp(web3, start_timestamp)\n",
    "end_block = get_block_number_by_timestamp(web3, end_timestamp)\n",
    "\n",
    "print(f\"The block number at {start_date} is {start_block}\")\n",
    "print(f\"The block number at {end_date} is {end_block}\")"
   ]
  },
  {
   "cell_type": "markdown",
   "id": "f8663ec0-4171-4c79-808d-2783c1d224fb",
   "metadata": {},
   "source": [
    "### Step 3: Collect the transaction data"
   ]
  },
  {
   "cell_type": "code",
   "execution_count": 16,
   "id": "ea9e3fac-f0da-45ba-ba3a-5e13c9fa4afe",
   "metadata": {},
   "outputs": [
    {
     "ename": "HTTPError",
     "evalue": "429 Client Error: Too Many Requests for url: https://mainnet.infura.io/v3/6f8d79ee5e7a4decb766180be7507176",
     "output_type": "error",
     "traceback": [
      "\u001b[0;31m---------------------------------------------------------------------------\u001b[0m",
      "\u001b[0;31mHTTPError\u001b[0m                                 Traceback (most recent call last)",
      "Cell \u001b[0;32mIn[16], line 1\u001b[0m\n\u001b[0;32m----> 1\u001b[0m data \u001b[38;5;241m=\u001b[39m \u001b[43mcollect_data\u001b[49m\u001b[43m(\u001b[49m\u001b[43mweb3\u001b[49m\u001b[43m,\u001b[49m\u001b[43m \u001b[49m\u001b[43mstart_block\u001b[49m\u001b[43m,\u001b[49m\u001b[43m \u001b[49m\u001b[43mend_block\u001b[49m\u001b[43m)\u001b[49m\n",
      "Cell \u001b[0;32mIn[13], line 43\u001b[0m, in \u001b[0;36mcollect_data\u001b[0;34m(web3, start_block, end_block)\u001b[0m\n\u001b[1;32m     40\u001b[0m data \u001b[38;5;241m=\u001b[39m []\n\u001b[1;32m     42\u001b[0m \u001b[38;5;28;01mwith\u001b[39;00m ThreadPoolExecutor() \u001b[38;5;28;01mas\u001b[39;00m executor:\n\u001b[0;32m---> 43\u001b[0m     \u001b[38;5;28;01mfor\u001b[39;00m block_data \u001b[38;5;129;01min\u001b[39;00m executor\u001b[38;5;241m.\u001b[39mmap(\u001b[38;5;28;01mlambda\u001b[39;00m block: extract_block_data(web3, block), \u001b[38;5;28mrange\u001b[39m(start_block, end_block \u001b[38;5;241m+\u001b[39m \u001b[38;5;241m1\u001b[39m)):\n\u001b[1;32m     44\u001b[0m         data\u001b[38;5;241m.\u001b[39mextend(block_data)\n\u001b[1;32m     46\u001b[0m \u001b[38;5;28;01mreturn\u001b[39;00m data\n",
      "File \u001b[0;32m~/anaconda3/envs/jom-blockchain-research/lib/python3.11/concurrent/futures/_base.py:619\u001b[0m, in \u001b[0;36mExecutor.map.<locals>.result_iterator\u001b[0;34m()\u001b[0m\n\u001b[1;32m    616\u001b[0m \u001b[38;5;28;01mwhile\u001b[39;00m fs:\n\u001b[1;32m    617\u001b[0m     \u001b[38;5;66;03m# Careful not to keep a reference to the popped future\u001b[39;00m\n\u001b[1;32m    618\u001b[0m     \u001b[38;5;28;01mif\u001b[39;00m timeout \u001b[38;5;129;01mis\u001b[39;00m \u001b[38;5;28;01mNone\u001b[39;00m:\n\u001b[0;32m--> 619\u001b[0m         \u001b[38;5;28;01myield\u001b[39;00m \u001b[43m_result_or_cancel\u001b[49m\u001b[43m(\u001b[49m\u001b[43mfs\u001b[49m\u001b[38;5;241;43m.\u001b[39;49m\u001b[43mpop\u001b[49m\u001b[43m(\u001b[49m\u001b[43m)\u001b[49m\u001b[43m)\u001b[49m\n\u001b[1;32m    620\u001b[0m     \u001b[38;5;28;01melse\u001b[39;00m:\n\u001b[1;32m    621\u001b[0m         \u001b[38;5;28;01myield\u001b[39;00m _result_or_cancel(fs\u001b[38;5;241m.\u001b[39mpop(), end_time \u001b[38;5;241m-\u001b[39m time\u001b[38;5;241m.\u001b[39mmonotonic())\n",
      "File \u001b[0;32m~/anaconda3/envs/jom-blockchain-research/lib/python3.11/concurrent/futures/_base.py:317\u001b[0m, in \u001b[0;36m_result_or_cancel\u001b[0;34m(***failed resolving arguments***)\u001b[0m\n\u001b[1;32m    315\u001b[0m \u001b[38;5;28;01mtry\u001b[39;00m:\n\u001b[1;32m    316\u001b[0m     \u001b[38;5;28;01mtry\u001b[39;00m:\n\u001b[0;32m--> 317\u001b[0m         \u001b[38;5;28;01mreturn\u001b[39;00m \u001b[43mfut\u001b[49m\u001b[38;5;241;43m.\u001b[39;49m\u001b[43mresult\u001b[49m\u001b[43m(\u001b[49m\u001b[43mtimeout\u001b[49m\u001b[43m)\u001b[49m\n\u001b[1;32m    318\u001b[0m     \u001b[38;5;28;01mfinally\u001b[39;00m:\n\u001b[1;32m    319\u001b[0m         fut\u001b[38;5;241m.\u001b[39mcancel()\n",
      "File \u001b[0;32m~/anaconda3/envs/jom-blockchain-research/lib/python3.11/concurrent/futures/_base.py:456\u001b[0m, in \u001b[0;36mFuture.result\u001b[0;34m(self, timeout)\u001b[0m\n\u001b[1;32m    454\u001b[0m     \u001b[38;5;28;01mraise\u001b[39;00m CancelledError()\n\u001b[1;32m    455\u001b[0m \u001b[38;5;28;01melif\u001b[39;00m \u001b[38;5;28mself\u001b[39m\u001b[38;5;241m.\u001b[39m_state \u001b[38;5;241m==\u001b[39m FINISHED:\n\u001b[0;32m--> 456\u001b[0m     \u001b[38;5;28;01mreturn\u001b[39;00m \u001b[38;5;28;43mself\u001b[39;49m\u001b[38;5;241;43m.\u001b[39;49m\u001b[43m__get_result\u001b[49m\u001b[43m(\u001b[49m\u001b[43m)\u001b[49m\n\u001b[1;32m    457\u001b[0m \u001b[38;5;28;01melse\u001b[39;00m:\n\u001b[1;32m    458\u001b[0m     \u001b[38;5;28;01mraise\u001b[39;00m \u001b[38;5;167;01mTimeoutError\u001b[39;00m()\n",
      "File \u001b[0;32m~/anaconda3/envs/jom-blockchain-research/lib/python3.11/concurrent/futures/_base.py:401\u001b[0m, in \u001b[0;36mFuture.__get_result\u001b[0;34m(self)\u001b[0m\n\u001b[1;32m    399\u001b[0m \u001b[38;5;28;01mif\u001b[39;00m \u001b[38;5;28mself\u001b[39m\u001b[38;5;241m.\u001b[39m_exception:\n\u001b[1;32m    400\u001b[0m     \u001b[38;5;28;01mtry\u001b[39;00m:\n\u001b[0;32m--> 401\u001b[0m         \u001b[38;5;28;01mraise\u001b[39;00m \u001b[38;5;28mself\u001b[39m\u001b[38;5;241m.\u001b[39m_exception\n\u001b[1;32m    402\u001b[0m     \u001b[38;5;28;01mfinally\u001b[39;00m:\n\u001b[1;32m    403\u001b[0m         \u001b[38;5;66;03m# Break a reference cycle with the exception in self._exception\u001b[39;00m\n\u001b[1;32m    404\u001b[0m         \u001b[38;5;28mself\u001b[39m \u001b[38;5;241m=\u001b[39m \u001b[38;5;28;01mNone\u001b[39;00m\n",
      "File \u001b[0;32m~/anaconda3/envs/jom-blockchain-research/lib/python3.11/concurrent/futures/thread.py:58\u001b[0m, in \u001b[0;36m_WorkItem.run\u001b[0;34m(self)\u001b[0m\n\u001b[1;32m     55\u001b[0m     \u001b[38;5;28;01mreturn\u001b[39;00m\n\u001b[1;32m     57\u001b[0m \u001b[38;5;28;01mtry\u001b[39;00m:\n\u001b[0;32m---> 58\u001b[0m     result \u001b[38;5;241m=\u001b[39m \u001b[38;5;28;43mself\u001b[39;49m\u001b[38;5;241;43m.\u001b[39;49m\u001b[43mfn\u001b[49m\u001b[43m(\u001b[49m\u001b[38;5;241;43m*\u001b[39;49m\u001b[38;5;28;43mself\u001b[39;49m\u001b[38;5;241;43m.\u001b[39;49m\u001b[43margs\u001b[49m\u001b[43m,\u001b[49m\u001b[43m \u001b[49m\u001b[38;5;241;43m*\u001b[39;49m\u001b[38;5;241;43m*\u001b[39;49m\u001b[38;5;28;43mself\u001b[39;49m\u001b[38;5;241;43m.\u001b[39;49m\u001b[43mkwargs\u001b[49m\u001b[43m)\u001b[49m\n\u001b[1;32m     59\u001b[0m \u001b[38;5;28;01mexcept\u001b[39;00m \u001b[38;5;167;01mBaseException\u001b[39;00m \u001b[38;5;28;01mas\u001b[39;00m exc:\n\u001b[1;32m     60\u001b[0m     \u001b[38;5;28mself\u001b[39m\u001b[38;5;241m.\u001b[39mfuture\u001b[38;5;241m.\u001b[39mset_exception(exc)\n",
      "Cell \u001b[0;32mIn[13], line 43\u001b[0m, in \u001b[0;36mcollect_data.<locals>.<lambda>\u001b[0;34m(block)\u001b[0m\n\u001b[1;32m     40\u001b[0m data \u001b[38;5;241m=\u001b[39m []\n\u001b[1;32m     42\u001b[0m \u001b[38;5;28;01mwith\u001b[39;00m ThreadPoolExecutor() \u001b[38;5;28;01mas\u001b[39;00m executor:\n\u001b[0;32m---> 43\u001b[0m     \u001b[38;5;28;01mfor\u001b[39;00m block_data \u001b[38;5;129;01min\u001b[39;00m executor\u001b[38;5;241m.\u001b[39mmap(\u001b[38;5;28;01mlambda\u001b[39;00m block: \u001b[43mextract_block_data\u001b[49m\u001b[43m(\u001b[49m\u001b[43mweb3\u001b[49m\u001b[43m,\u001b[49m\u001b[43m \u001b[49m\u001b[43mblock\u001b[49m\u001b[43m)\u001b[49m, \u001b[38;5;28mrange\u001b[39m(start_block, end_block \u001b[38;5;241m+\u001b[39m \u001b[38;5;241m1\u001b[39m)):\n\u001b[1;32m     44\u001b[0m         data\u001b[38;5;241m.\u001b[39mextend(block_data)\n\u001b[1;32m     46\u001b[0m \u001b[38;5;28;01mreturn\u001b[39;00m data\n",
      "Cell \u001b[0;32mIn[13], line 12\u001b[0m, in \u001b[0;36mextract_block_data\u001b[0;34m(web3, block)\u001b[0m\n\u001b[1;32m      9\u001b[0m data \u001b[38;5;241m=\u001b[39m []\n\u001b[1;32m     10\u001b[0m \u001b[38;5;28;01mfor\u001b[39;00m tx \u001b[38;5;129;01min\u001b[39;00m block_data[\u001b[38;5;124m'\u001b[39m\u001b[38;5;124mtransactions\u001b[39m\u001b[38;5;124m'\u001b[39m]:\n\u001b[1;32m     11\u001b[0m     \u001b[38;5;66;03m# Define transaction type\u001b[39;00m\n\u001b[0;32m---> 12\u001b[0m     \u001b[38;5;28;01mif\u001b[39;00m tx[\u001b[38;5;124m'\u001b[39m\u001b[38;5;124minput\u001b[39m\u001b[38;5;124m'\u001b[39m] \u001b[38;5;241m==\u001b[39m \u001b[38;5;124m'\u001b[39m\u001b[38;5;124m0x\u001b[39m\u001b[38;5;124m'\u001b[39m \u001b[38;5;129;01mand\u001b[39;00m \u001b[38;5;129;01mnot\u001b[39;00m \u001b[43mis_contract\u001b[49m\u001b[43m(\u001b[49m\u001b[43mweb3\u001b[49m\u001b[43m,\u001b[49m\u001b[43m \u001b[49m\u001b[43mtx\u001b[49m\u001b[43m[\u001b[49m\u001b[38;5;124;43m'\u001b[39;49m\u001b[38;5;124;43mto\u001b[39;49m\u001b[38;5;124;43m'\u001b[39;49m\u001b[43m]\u001b[49m\u001b[43m)\u001b[49m:\n\u001b[1;32m     13\u001b[0m         tx_type \u001b[38;5;241m=\u001b[39m \u001b[38;5;124m'\u001b[39m\u001b[38;5;124mSimple Ether Transfer\u001b[39m\u001b[38;5;124m'\u001b[39m\n\u001b[1;32m     14\u001b[0m     \u001b[38;5;28;01melif\u001b[39;00m tx[\u001b[38;5;124m'\u001b[39m\u001b[38;5;124minput\u001b[39m\u001b[38;5;124m'\u001b[39m][:\u001b[38;5;241m10\u001b[39m] \u001b[38;5;241m==\u001b[39m ERC20_TRANSFER_SIGNATURE:\n",
      "Cell \u001b[0;32mIn[12], line 5\u001b[0m, in \u001b[0;36mis_contract\u001b[0;34m(web3, address)\u001b[0m\n\u001b[1;32m      1\u001b[0m \u001b[38;5;28;01mdef\u001b[39;00m \u001b[38;5;21mis_contract\u001b[39m(web3, address):\n\u001b[1;32m      2\u001b[0m \u001b[38;5;250m    \u001b[39m\u001b[38;5;124;03m\"\"\"\u001b[39;00m\n\u001b[1;32m      3\u001b[0m \u001b[38;5;124;03m    Determine if an address is a contract address.\u001b[39;00m\n\u001b[1;32m      4\u001b[0m \u001b[38;5;124;03m    \"\"\"\u001b[39;00m\n\u001b[0;32m----> 5\u001b[0m     \u001b[38;5;28;01mreturn\u001b[39;00m \u001b[43mweb3\u001b[49m\u001b[38;5;241;43m.\u001b[39;49m\u001b[43meth\u001b[49m\u001b[38;5;241;43m.\u001b[39;49m\u001b[43mget_code\u001b[49m\u001b[43m(\u001b[49m\u001b[43maddress\u001b[49m\u001b[43m)\u001b[49m \u001b[38;5;241m!=\u001b[39m \u001b[38;5;124mb\u001b[39m\u001b[38;5;124m'\u001b[39m\u001b[38;5;124m'\u001b[39m\n",
      "File \u001b[0;32m~/anaconda3/envs/jom-blockchain-research/lib/python3.11/site-packages/web3/eth/eth.py:420\u001b[0m, in \u001b[0;36mEth.get_code\u001b[0;34m(self, account, block_identifier)\u001b[0m\n\u001b[1;32m    415\u001b[0m \u001b[38;5;28;01mdef\u001b[39;00m \u001b[38;5;21mget_code\u001b[39m(\n\u001b[1;32m    416\u001b[0m     \u001b[38;5;28mself\u001b[39m,\n\u001b[1;32m    417\u001b[0m     account: Union[Address, ChecksumAddress, ENS],\n\u001b[1;32m    418\u001b[0m     block_identifier: Optional[BlockIdentifier] \u001b[38;5;241m=\u001b[39m \u001b[38;5;28;01mNone\u001b[39;00m,\n\u001b[1;32m    419\u001b[0m ) \u001b[38;5;241m-\u001b[39m\u001b[38;5;241m>\u001b[39m HexBytes:\n\u001b[0;32m--> 420\u001b[0m     \u001b[38;5;28;01mreturn\u001b[39;00m \u001b[38;5;28;43mself\u001b[39;49m\u001b[38;5;241;43m.\u001b[39;49m\u001b[43m_get_code\u001b[49m\u001b[43m(\u001b[49m\u001b[43maccount\u001b[49m\u001b[43m,\u001b[49m\u001b[43m \u001b[49m\u001b[43mblock_identifier\u001b[49m\u001b[43m)\u001b[49m\n",
      "File \u001b[0;32m~/anaconda3/envs/jom-blockchain-research/lib/python3.11/site-packages/web3/module.py:68\u001b[0m, in \u001b[0;36mretrieve_blocking_method_call_fn.<locals>.caller\u001b[0;34m(*args, **kwargs)\u001b[0m\n\u001b[1;32m     62\u001b[0m     \u001b[38;5;28;01mreturn\u001b[39;00m LogFilter(eth_module\u001b[38;5;241m=\u001b[39mmodule, filter_id\u001b[38;5;241m=\u001b[39merr\u001b[38;5;241m.\u001b[39mfilter_id)\n\u001b[1;32m     63\u001b[0m (\n\u001b[1;32m     64\u001b[0m     result_formatters,\n\u001b[1;32m     65\u001b[0m     error_formatters,\n\u001b[1;32m     66\u001b[0m     null_result_formatters,\n\u001b[1;32m     67\u001b[0m ) \u001b[38;5;241m=\u001b[39m response_formatters\n\u001b[0;32m---> 68\u001b[0m result \u001b[38;5;241m=\u001b[39m \u001b[43mw3\u001b[49m\u001b[38;5;241;43m.\u001b[39;49m\u001b[43mmanager\u001b[49m\u001b[38;5;241;43m.\u001b[39;49m\u001b[43mrequest_blocking\u001b[49m\u001b[43m(\u001b[49m\n\u001b[1;32m     69\u001b[0m \u001b[43m    \u001b[49m\u001b[43mmethod_str\u001b[49m\u001b[43m,\u001b[49m\u001b[43m \u001b[49m\u001b[43mparams\u001b[49m\u001b[43m,\u001b[49m\u001b[43m \u001b[49m\u001b[43merror_formatters\u001b[49m\u001b[43m,\u001b[49m\u001b[43m \u001b[49m\u001b[43mnull_result_formatters\u001b[49m\n\u001b[1;32m     70\u001b[0m \u001b[43m\u001b[49m\u001b[43m)\u001b[49m\n\u001b[1;32m     71\u001b[0m \u001b[38;5;28;01mreturn\u001b[39;00m apply_result_formatters(result_formatters, result)\n",
      "File \u001b[0;32m~/anaconda3/envs/jom-blockchain-research/lib/python3.11/site-packages/web3/manager.py:231\u001b[0m, in \u001b[0;36mRequestManager.request_blocking\u001b[0;34m(self, method, params, error_formatters, null_result_formatters)\u001b[0m\n\u001b[1;32m    221\u001b[0m \u001b[38;5;28;01mdef\u001b[39;00m \u001b[38;5;21mrequest_blocking\u001b[39m(\n\u001b[1;32m    222\u001b[0m     \u001b[38;5;28mself\u001b[39m,\n\u001b[1;32m    223\u001b[0m     method: Union[RPCEndpoint, Callable[\u001b[38;5;241m.\u001b[39m\u001b[38;5;241m.\u001b[39m\u001b[38;5;241m.\u001b[39m, RPCEndpoint]],\n\u001b[0;32m   (...)\u001b[0m\n\u001b[1;32m    226\u001b[0m     null_result_formatters: Optional[Callable[\u001b[38;5;241m.\u001b[39m\u001b[38;5;241m.\u001b[39m\u001b[38;5;241m.\u001b[39m, Any]] \u001b[38;5;241m=\u001b[39m \u001b[38;5;28;01mNone\u001b[39;00m,\n\u001b[1;32m    227\u001b[0m ) \u001b[38;5;241m-\u001b[39m\u001b[38;5;241m>\u001b[39m Any:\n\u001b[1;32m    228\u001b[0m \u001b[38;5;250m    \u001b[39m\u001b[38;5;124;03m\"\"\"\u001b[39;00m\n\u001b[1;32m    229\u001b[0m \u001b[38;5;124;03m    Make a synchronous request using the provider\u001b[39;00m\n\u001b[1;32m    230\u001b[0m \u001b[38;5;124;03m    \"\"\"\u001b[39;00m\n\u001b[0;32m--> 231\u001b[0m     response \u001b[38;5;241m=\u001b[39m \u001b[38;5;28;43mself\u001b[39;49m\u001b[38;5;241;43m.\u001b[39;49m\u001b[43m_make_request\u001b[49m\u001b[43m(\u001b[49m\u001b[43mmethod\u001b[49m\u001b[43m,\u001b[49m\u001b[43m \u001b[49m\u001b[43mparams\u001b[49m\u001b[43m)\u001b[49m\n\u001b[1;32m    232\u001b[0m     \u001b[38;5;28;01mreturn\u001b[39;00m \u001b[38;5;28mself\u001b[39m\u001b[38;5;241m.\u001b[39mformatted_response(\n\u001b[1;32m    233\u001b[0m         response, params, error_formatters, null_result_formatters\n\u001b[1;32m    234\u001b[0m     )\n",
      "File \u001b[0;32m~/anaconda3/envs/jom-blockchain-research/lib/python3.11/site-packages/web3/manager.py:175\u001b[0m, in \u001b[0;36mRequestManager._make_request\u001b[0;34m(self, method, params)\u001b[0m\n\u001b[1;32m    171\u001b[0m request_func \u001b[38;5;241m=\u001b[39m provider\u001b[38;5;241m.\u001b[39mrequest_func(\n\u001b[1;32m    172\u001b[0m     cast(\u001b[38;5;124m\"\u001b[39m\u001b[38;5;124mWeb3\u001b[39m\u001b[38;5;124m\"\u001b[39m, \u001b[38;5;28mself\u001b[39m\u001b[38;5;241m.\u001b[39mw3), cast(MiddlewareOnion, \u001b[38;5;28mself\u001b[39m\u001b[38;5;241m.\u001b[39mmiddleware_onion)\n\u001b[1;32m    173\u001b[0m )\n\u001b[1;32m    174\u001b[0m \u001b[38;5;28mself\u001b[39m\u001b[38;5;241m.\u001b[39mlogger\u001b[38;5;241m.\u001b[39mdebug(\u001b[38;5;124mf\u001b[39m\u001b[38;5;124m\"\u001b[39m\u001b[38;5;124mMaking request. Method: \u001b[39m\u001b[38;5;132;01m{\u001b[39;00mmethod\u001b[38;5;132;01m}\u001b[39;00m\u001b[38;5;124m\"\u001b[39m)\n\u001b[0;32m--> 175\u001b[0m \u001b[38;5;28;01mreturn\u001b[39;00m \u001b[43mrequest_func\u001b[49m\u001b[43m(\u001b[49m\u001b[43mmethod\u001b[49m\u001b[43m,\u001b[49m\u001b[43m \u001b[49m\u001b[43mparams\u001b[49m\u001b[43m)\u001b[49m\n",
      "File \u001b[0;32m~/anaconda3/envs/jom-blockchain-research/lib/python3.11/site-packages/web3/middleware/formatting.py:99\u001b[0m, in \u001b[0;36mconstruct_web3_formatting_middleware.<locals>.formatter_middleware.<locals>.middleware\u001b[0;34m(method, params)\u001b[0m\n\u001b[1;32m     97\u001b[0m     formatter \u001b[38;5;241m=\u001b[39m request_formatters[method]\n\u001b[1;32m     98\u001b[0m     params \u001b[38;5;241m=\u001b[39m formatter(params)\n\u001b[0;32m---> 99\u001b[0m response \u001b[38;5;241m=\u001b[39m \u001b[43mmake_request\u001b[49m\u001b[43m(\u001b[49m\u001b[43mmethod\u001b[49m\u001b[43m,\u001b[49m\u001b[43m \u001b[49m\u001b[43mparams\u001b[49m\u001b[43m)\u001b[49m\n\u001b[1;32m    101\u001b[0m \u001b[38;5;28;01mreturn\u001b[39;00m _apply_response_formatters(\n\u001b[1;32m    102\u001b[0m     method\u001b[38;5;241m=\u001b[39mmethod, response\u001b[38;5;241m=\u001b[39mresponse, \u001b[38;5;241m*\u001b[39m\u001b[38;5;241m*\u001b[39mformatters\n\u001b[1;32m    103\u001b[0m )\n",
      "File \u001b[0;32m~/anaconda3/envs/jom-blockchain-research/lib/python3.11/site-packages/web3/middleware/gas_price_strategy.py:96\u001b[0m, in \u001b[0;36mgas_price_strategy_middleware.<locals>.middleware\u001b[0;34m(method, params)\u001b[0m\n\u001b[1;32m     92\u001b[0m     transaction \u001b[38;5;241m=\u001b[39m validate_transaction_params(\n\u001b[1;32m     93\u001b[0m         transaction, latest_block, generated_gas_price\n\u001b[1;32m     94\u001b[0m     )\n\u001b[1;32m     95\u001b[0m     \u001b[38;5;28;01mreturn\u001b[39;00m make_request(method, (transaction,))\n\u001b[0;32m---> 96\u001b[0m \u001b[38;5;28;01mreturn\u001b[39;00m \u001b[43mmake_request\u001b[49m\u001b[43m(\u001b[49m\u001b[43mmethod\u001b[49m\u001b[43m,\u001b[49m\u001b[43m \u001b[49m\u001b[43mparams\u001b[49m\u001b[43m)\u001b[49m\n",
      "File \u001b[0;32m~/anaconda3/envs/jom-blockchain-research/lib/python3.11/site-packages/web3/middleware/formatting.py:99\u001b[0m, in \u001b[0;36mconstruct_web3_formatting_middleware.<locals>.formatter_middleware.<locals>.middleware\u001b[0;34m(method, params)\u001b[0m\n\u001b[1;32m     97\u001b[0m     formatter \u001b[38;5;241m=\u001b[39m request_formatters[method]\n\u001b[1;32m     98\u001b[0m     params \u001b[38;5;241m=\u001b[39m formatter(params)\n\u001b[0;32m---> 99\u001b[0m response \u001b[38;5;241m=\u001b[39m \u001b[43mmake_request\u001b[49m\u001b[43m(\u001b[49m\u001b[43mmethod\u001b[49m\u001b[43m,\u001b[49m\u001b[43m \u001b[49m\u001b[43mparams\u001b[49m\u001b[43m)\u001b[49m\n\u001b[1;32m    101\u001b[0m \u001b[38;5;28;01mreturn\u001b[39;00m _apply_response_formatters(\n\u001b[1;32m    102\u001b[0m     method\u001b[38;5;241m=\u001b[39mmethod, response\u001b[38;5;241m=\u001b[39mresponse, \u001b[38;5;241m*\u001b[39m\u001b[38;5;241m*\u001b[39mformatters\n\u001b[1;32m    103\u001b[0m )\n",
      "File \u001b[0;32m~/anaconda3/envs/jom-blockchain-research/lib/python3.11/site-packages/web3/middleware/attrdict.py:38\u001b[0m, in \u001b[0;36mattrdict_middleware.<locals>.middleware\u001b[0;34m(method, params)\u001b[0m\n\u001b[1;32m     37\u001b[0m \u001b[38;5;28;01mdef\u001b[39;00m \u001b[38;5;21mmiddleware\u001b[39m(method: RPCEndpoint, params: Any) \u001b[38;5;241m-\u001b[39m\u001b[38;5;241m>\u001b[39m RPCResponse:\n\u001b[0;32m---> 38\u001b[0m     response \u001b[38;5;241m=\u001b[39m \u001b[43mmake_request\u001b[49m\u001b[43m(\u001b[49m\u001b[43mmethod\u001b[49m\u001b[43m,\u001b[49m\u001b[43m \u001b[49m\u001b[43mparams\u001b[49m\u001b[43m)\u001b[49m\n\u001b[1;32m     40\u001b[0m     \u001b[38;5;28;01mif\u001b[39;00m \u001b[38;5;124m\"\u001b[39m\u001b[38;5;124mresult\u001b[39m\u001b[38;5;124m\"\u001b[39m \u001b[38;5;129;01min\u001b[39;00m response:\n\u001b[1;32m     41\u001b[0m         \u001b[38;5;28;01mreturn\u001b[39;00m assoc(\n\u001b[1;32m     42\u001b[0m             response, \u001b[38;5;124m\"\u001b[39m\u001b[38;5;124mresult\u001b[39m\u001b[38;5;124m\"\u001b[39m, AttributeDict\u001b[38;5;241m.\u001b[39mrecursive(response[\u001b[38;5;124m\"\u001b[39m\u001b[38;5;124mresult\u001b[39m\u001b[38;5;124m\"\u001b[39m])\n\u001b[1;32m     43\u001b[0m         )\n",
      "File \u001b[0;32m~/anaconda3/envs/jom-blockchain-research/lib/python3.11/site-packages/web3/middleware/formatting.py:99\u001b[0m, in \u001b[0;36mconstruct_web3_formatting_middleware.<locals>.formatter_middleware.<locals>.middleware\u001b[0;34m(method, params)\u001b[0m\n\u001b[1;32m     97\u001b[0m     formatter \u001b[38;5;241m=\u001b[39m request_formatters[method]\n\u001b[1;32m     98\u001b[0m     params \u001b[38;5;241m=\u001b[39m formatter(params)\n\u001b[0;32m---> 99\u001b[0m response \u001b[38;5;241m=\u001b[39m \u001b[43mmake_request\u001b[49m\u001b[43m(\u001b[49m\u001b[43mmethod\u001b[49m\u001b[43m,\u001b[49m\u001b[43m \u001b[49m\u001b[43mparams\u001b[49m\u001b[43m)\u001b[49m\n\u001b[1;32m    101\u001b[0m \u001b[38;5;28;01mreturn\u001b[39;00m _apply_response_formatters(\n\u001b[1;32m    102\u001b[0m     method\u001b[38;5;241m=\u001b[39mmethod, response\u001b[38;5;241m=\u001b[39mresponse, \u001b[38;5;241m*\u001b[39m\u001b[38;5;241m*\u001b[39mformatters\n\u001b[1;32m    103\u001b[0m )\n",
      "File \u001b[0;32m~/anaconda3/envs/jom-blockchain-research/lib/python3.11/site-packages/web3/middleware/formatting.py:99\u001b[0m, in \u001b[0;36mconstruct_web3_formatting_middleware.<locals>.formatter_middleware.<locals>.middleware\u001b[0;34m(method, params)\u001b[0m\n\u001b[1;32m     97\u001b[0m     formatter \u001b[38;5;241m=\u001b[39m request_formatters[method]\n\u001b[1;32m     98\u001b[0m     params \u001b[38;5;241m=\u001b[39m formatter(params)\n\u001b[0;32m---> 99\u001b[0m response \u001b[38;5;241m=\u001b[39m \u001b[43mmake_request\u001b[49m\u001b[43m(\u001b[49m\u001b[43mmethod\u001b[49m\u001b[43m,\u001b[49m\u001b[43m \u001b[49m\u001b[43mparams\u001b[49m\u001b[43m)\u001b[49m\n\u001b[1;32m    101\u001b[0m \u001b[38;5;28;01mreturn\u001b[39;00m _apply_response_formatters(\n\u001b[1;32m    102\u001b[0m     method\u001b[38;5;241m=\u001b[39mmethod, response\u001b[38;5;241m=\u001b[39mresponse, \u001b[38;5;241m*\u001b[39m\u001b[38;5;241m*\u001b[39mformatters\n\u001b[1;32m    103\u001b[0m )\n",
      "File \u001b[0;32m~/anaconda3/envs/jom-blockchain-research/lib/python3.11/site-packages/web3/middleware/formatting.py:99\u001b[0m, in \u001b[0;36mconstruct_web3_formatting_middleware.<locals>.formatter_middleware.<locals>.middleware\u001b[0;34m(method, params)\u001b[0m\n\u001b[1;32m     97\u001b[0m     formatter \u001b[38;5;241m=\u001b[39m request_formatters[method]\n\u001b[1;32m     98\u001b[0m     params \u001b[38;5;241m=\u001b[39m formatter(params)\n\u001b[0;32m---> 99\u001b[0m response \u001b[38;5;241m=\u001b[39m \u001b[43mmake_request\u001b[49m\u001b[43m(\u001b[49m\u001b[43mmethod\u001b[49m\u001b[43m,\u001b[49m\u001b[43m \u001b[49m\u001b[43mparams\u001b[49m\u001b[43m)\u001b[49m\n\u001b[1;32m    101\u001b[0m \u001b[38;5;28;01mreturn\u001b[39;00m _apply_response_formatters(\n\u001b[1;32m    102\u001b[0m     method\u001b[38;5;241m=\u001b[39mmethod, response\u001b[38;5;241m=\u001b[39mresponse, \u001b[38;5;241m*\u001b[39m\u001b[38;5;241m*\u001b[39mformatters\n\u001b[1;32m    103\u001b[0m )\n",
      "File \u001b[0;32m~/anaconda3/envs/jom-blockchain-research/lib/python3.11/site-packages/web3/middleware/buffered_gas_estimate.py:43\u001b[0m, in \u001b[0;36mbuffered_gas_estimate_middleware.<locals>.middleware\u001b[0;34m(method, params)\u001b[0m\n\u001b[1;32m     37\u001b[0m         transaction \u001b[38;5;241m=\u001b[39m assoc(\n\u001b[1;32m     38\u001b[0m             transaction,\n\u001b[1;32m     39\u001b[0m             \u001b[38;5;124m\"\u001b[39m\u001b[38;5;124mgas\u001b[39m\u001b[38;5;124m\"\u001b[39m,\n\u001b[1;32m     40\u001b[0m             \u001b[38;5;28mhex\u001b[39m(get_buffered_gas_estimate(w3, transaction)),\n\u001b[1;32m     41\u001b[0m         )\n\u001b[1;32m     42\u001b[0m         \u001b[38;5;28;01mreturn\u001b[39;00m make_request(method, [transaction])\n\u001b[0;32m---> 43\u001b[0m \u001b[38;5;28;01mreturn\u001b[39;00m \u001b[43mmake_request\u001b[49m\u001b[43m(\u001b[49m\u001b[43mmethod\u001b[49m\u001b[43m,\u001b[49m\u001b[43m \u001b[49m\u001b[43mparams\u001b[49m\u001b[43m)\u001b[49m\n",
      "File \u001b[0;32m~/anaconda3/envs/jom-blockchain-research/lib/python3.11/site-packages/web3/middleware/exception_retry_request.py:107\u001b[0m, in \u001b[0;36mexception_retry_middleware.<locals>.middleware\u001b[0;34m(method, params)\u001b[0m\n\u001b[1;32m    105\u001b[0m \u001b[38;5;28;01mfor\u001b[39;00m i \u001b[38;5;129;01min\u001b[39;00m \u001b[38;5;28mrange\u001b[39m(retries):\n\u001b[1;32m    106\u001b[0m     \u001b[38;5;28;01mtry\u001b[39;00m:\n\u001b[0;32m--> 107\u001b[0m         \u001b[38;5;28;01mreturn\u001b[39;00m \u001b[43mmake_request\u001b[49m\u001b[43m(\u001b[49m\u001b[43mmethod\u001b[49m\u001b[43m,\u001b[49m\u001b[43m \u001b[49m\u001b[43mparams\u001b[49m\u001b[43m)\u001b[49m\n\u001b[1;32m    108\u001b[0m     \u001b[38;5;66;03m# https://github.com/python/mypy/issues/5349\u001b[39;00m\n\u001b[1;32m    109\u001b[0m     \u001b[38;5;28;01mexcept\u001b[39;00m errors:  \u001b[38;5;66;03m# type: ignore\u001b[39;00m\n",
      "File \u001b[0;32m~/anaconda3/envs/jom-blockchain-research/lib/python3.11/site-packages/web3/providers/rpc.py:90\u001b[0m, in \u001b[0;36mHTTPProvider.make_request\u001b[0;34m(self, method, params)\u001b[0m\n\u001b[1;32m     86\u001b[0m \u001b[38;5;28mself\u001b[39m\u001b[38;5;241m.\u001b[39mlogger\u001b[38;5;241m.\u001b[39mdebug(\n\u001b[1;32m     87\u001b[0m     \u001b[38;5;124mf\u001b[39m\u001b[38;5;124m\"\u001b[39m\u001b[38;5;124mMaking request HTTP. URI: \u001b[39m\u001b[38;5;132;01m{\u001b[39;00m\u001b[38;5;28mself\u001b[39m\u001b[38;5;241m.\u001b[39mendpoint_uri\u001b[38;5;132;01m}\u001b[39;00m\u001b[38;5;124m, Method: \u001b[39m\u001b[38;5;132;01m{\u001b[39;00mmethod\u001b[38;5;132;01m}\u001b[39;00m\u001b[38;5;124m\"\u001b[39m\n\u001b[1;32m     88\u001b[0m )\n\u001b[1;32m     89\u001b[0m request_data \u001b[38;5;241m=\u001b[39m \u001b[38;5;28mself\u001b[39m\u001b[38;5;241m.\u001b[39mencode_rpc_request(method, params)\n\u001b[0;32m---> 90\u001b[0m raw_response \u001b[38;5;241m=\u001b[39m \u001b[43mmake_post_request\u001b[49m\u001b[43m(\u001b[49m\n\u001b[1;32m     91\u001b[0m \u001b[43m    \u001b[49m\u001b[38;5;28;43mself\u001b[39;49m\u001b[38;5;241;43m.\u001b[39;49m\u001b[43mendpoint_uri\u001b[49m\u001b[43m,\u001b[49m\u001b[43m \u001b[49m\u001b[43mrequest_data\u001b[49m\u001b[43m,\u001b[49m\u001b[43m \u001b[49m\u001b[38;5;241;43m*\u001b[39;49m\u001b[38;5;241;43m*\u001b[39;49m\u001b[38;5;28;43mself\u001b[39;49m\u001b[38;5;241;43m.\u001b[39;49m\u001b[43mget_request_kwargs\u001b[49m\u001b[43m(\u001b[49m\u001b[43m)\u001b[49m\n\u001b[1;32m     92\u001b[0m \u001b[43m\u001b[49m\u001b[43m)\u001b[49m\n\u001b[1;32m     93\u001b[0m response \u001b[38;5;241m=\u001b[39m \u001b[38;5;28mself\u001b[39m\u001b[38;5;241m.\u001b[39mdecode_rpc_response(raw_response)\n\u001b[1;32m     94\u001b[0m \u001b[38;5;28mself\u001b[39m\u001b[38;5;241m.\u001b[39mlogger\u001b[38;5;241m.\u001b[39mdebug(\n\u001b[1;32m     95\u001b[0m     \u001b[38;5;124mf\u001b[39m\u001b[38;5;124m\"\u001b[39m\u001b[38;5;124mGetting response HTTP. URI: \u001b[39m\u001b[38;5;132;01m{\u001b[39;00m\u001b[38;5;28mself\u001b[39m\u001b[38;5;241m.\u001b[39mendpoint_uri\u001b[38;5;132;01m}\u001b[39;00m\u001b[38;5;124m, \u001b[39m\u001b[38;5;124m\"\u001b[39m\n\u001b[1;32m     96\u001b[0m     \u001b[38;5;124mf\u001b[39m\u001b[38;5;124m\"\u001b[39m\u001b[38;5;124mMethod: \u001b[39m\u001b[38;5;132;01m{\u001b[39;00mmethod\u001b[38;5;132;01m}\u001b[39;00m\u001b[38;5;124m, Response: \u001b[39m\u001b[38;5;132;01m{\u001b[39;00mresponse\u001b[38;5;132;01m}\u001b[39;00m\u001b[38;5;124m\"\u001b[39m\n\u001b[1;32m     97\u001b[0m )\n",
      "File \u001b[0;32m~/anaconda3/envs/jom-blockchain-research/lib/python3.11/site-packages/web3/_utils/request.py:115\u001b[0m, in \u001b[0;36mmake_post_request\u001b[0;34m(endpoint_uri, data, *args, **kwargs)\u001b[0m\n\u001b[1;32m    111\u001b[0m \u001b[38;5;28;01mdef\u001b[39;00m \u001b[38;5;21mmake_post_request\u001b[39m(\n\u001b[1;32m    112\u001b[0m     endpoint_uri: URI, data: Union[\u001b[38;5;28mbytes\u001b[39m, Dict[\u001b[38;5;28mstr\u001b[39m, Any]], \u001b[38;5;241m*\u001b[39margs: Any, \u001b[38;5;241m*\u001b[39m\u001b[38;5;241m*\u001b[39mkwargs: Any\n\u001b[1;32m    113\u001b[0m ) \u001b[38;5;241m-\u001b[39m\u001b[38;5;241m>\u001b[39m \u001b[38;5;28mbytes\u001b[39m:\n\u001b[1;32m    114\u001b[0m     response \u001b[38;5;241m=\u001b[39m get_response_from_post_request(endpoint_uri, data\u001b[38;5;241m=\u001b[39mdata, \u001b[38;5;241m*\u001b[39margs, \u001b[38;5;241m*\u001b[39m\u001b[38;5;241m*\u001b[39mkwargs)\n\u001b[0;32m--> 115\u001b[0m     \u001b[43mresponse\u001b[49m\u001b[38;5;241;43m.\u001b[39;49m\u001b[43mraise_for_status\u001b[49m\u001b[43m(\u001b[49m\u001b[43m)\u001b[49m\n\u001b[1;32m    116\u001b[0m     \u001b[38;5;28;01mreturn\u001b[39;00m response\u001b[38;5;241m.\u001b[39mcontent\n",
      "File \u001b[0;32m~/anaconda3/envs/jom-blockchain-research/lib/python3.11/site-packages/requests/models.py:1021\u001b[0m, in \u001b[0;36mResponse.raise_for_status\u001b[0;34m(self)\u001b[0m\n\u001b[1;32m   1016\u001b[0m     http_error_msg \u001b[38;5;241m=\u001b[39m (\n\u001b[1;32m   1017\u001b[0m         \u001b[38;5;124mf\u001b[39m\u001b[38;5;124m\"\u001b[39m\u001b[38;5;132;01m{\u001b[39;00m\u001b[38;5;28mself\u001b[39m\u001b[38;5;241m.\u001b[39mstatus_code\u001b[38;5;132;01m}\u001b[39;00m\u001b[38;5;124m Server Error: \u001b[39m\u001b[38;5;132;01m{\u001b[39;00mreason\u001b[38;5;132;01m}\u001b[39;00m\u001b[38;5;124m for url: \u001b[39m\u001b[38;5;132;01m{\u001b[39;00m\u001b[38;5;28mself\u001b[39m\u001b[38;5;241m.\u001b[39murl\u001b[38;5;132;01m}\u001b[39;00m\u001b[38;5;124m\"\u001b[39m\n\u001b[1;32m   1018\u001b[0m     )\n\u001b[1;32m   1020\u001b[0m \u001b[38;5;28;01mif\u001b[39;00m http_error_msg:\n\u001b[0;32m-> 1021\u001b[0m     \u001b[38;5;28;01mraise\u001b[39;00m HTTPError(http_error_msg, response\u001b[38;5;241m=\u001b[39m\u001b[38;5;28mself\u001b[39m)\n",
      "\u001b[0;31mHTTPError\u001b[0m: 429 Client Error: Too Many Requests for url: https://mainnet.infura.io/v3/6f8d79ee5e7a4decb766180be7507176"
     ]
    }
   ],
   "source": [
    "data = collect_data(web3, start_block, end_block)"
   ]
  },
  {
   "cell_type": "markdown",
   "id": "b7723227-ba57-44b9-b69c-fe20224672df",
   "metadata": {},
   "source": [
    "### Step 4: Write the data to a CSV file"
   ]
  },
  {
   "cell_type": "code",
   "execution_count": null,
   "id": "9fa80e15-f235-44ae-9090-90feb8222b01",
   "metadata": {},
   "outputs": [],
   "source": [
    "# Specify the CSV file name\n",
    "file_name = \"eth_transaction_data.csv\"\n",
    "\n",
    "# Write data to the CSV file\n",
    "with open(file_name, 'w', newline='') as csvfile:\n",
    "    fieldnames = list(data[0].keys()) if data else []\n",
    "    writer = csv.DictWriter(csvfile, fieldnames=fieldnames)\n",
    "    \n",
    "    writer.writeheader()\n",
    "    for row in data:\n",
    "        writer.writerow(row)"
   ]
  },
  {
   "cell_type": "code",
   "execution_count": null,
   "id": "dde1037f-f852-4c2e-bec3-f331f61913fa",
   "metadata": {},
   "outputs": [],
   "source": [
    "def get_unique_senders(data):\n",
    "    \"\"\"\n",
    "    Collect all unique sender addresses from a dataframe of transaction data.\n",
    "    \n",
    "    Args:\n",
    "        data (DataFrame): A dataframe representing transaction data.\n",
    "    \n",
    "    Returns:\n",
    "        DataFrame: A dataframe of unique sender addresses.\n",
    "    \"\"\"\n",
    "    unique_senders = data['Sender\\'s Address'].unique()\n",
    "    return pd.DataFrame(unique_senders, columns=['Sender\\'s Address'])"
   ]
  },
  {
   "cell_type": "code",
   "execution_count": null,
   "id": "38f888f8-d3e8-4fa0-b320-33d7d1975c42",
   "metadata": {},
   "outputs": [],
   "source": [
    "# Read the CSV file into a DataFrame\n",
    "df = pd.read_csv('eth_transaction_data.csv')"
   ]
  },
  {
   "cell_type": "code",
   "execution_count": null,
   "id": "e948df8b-ee1e-46e4-bd98-253d6ebc4954",
   "metadata": {},
   "outputs": [],
   "source": [
    "df.columns = df.columns.str.lower().str.replace(' ', '_').str.replace(\"'\", \"\")\n",
    "df.columns"
   ]
  },
  {
   "cell_type": "code",
   "execution_count": null,
   "id": "d6edbf83-7b49-487c-8527-e545c91b1927",
   "metadata": {},
   "outputs": [],
   "source": [
    "# Get unique sender addresses\n",
    "unique_senders = get_unique_senders(df)"
   ]
  },
  {
   "cell_type": "code",
   "execution_count": null,
   "id": "2308f9a8-e4da-40ae-a033-bf4dde600c49",
   "metadata": {},
   "outputs": [],
   "source": [
    "# If you want to save the unique senders to a CSV file\n",
    "unique_senders.to_csv('unique_senders.csv', index=False)"
   ]
  },
  {
   "cell_type": "code",
   "execution_count": null,
   "id": "970bf33a-928c-452d-a96a-46f7e88e1c59",
   "metadata": {},
   "outputs": [],
   "source": [
    "# Convert Unix timestamp to pandas Timestamp\n",
    "df['transaction_timestamp'] = pd.to_datetime(df['transaction_timestamp'], unit='s')\n",
    "\n",
    "# Sort by user address and timestamp\n",
    "df.sort_values(['senders_address', 'transaction_timestamp'], inplace=True)\n",
    "\n",
    "# Add a column for transaction count within the last 12 hours, initialized with 0\n",
    "df['trans_freq'] = 0\n",
    "\n",
    "# Initialize the dictionary to store transaction counts\n",
    "transaction_counts = defaultdict(list)\n",
    "\n",
    "# Loop over each row in the DataFrame\n",
    "for i in range(len(df)):\n",
    "    # Get the current user and transaction timestamp\n",
    "    current_user = df.iloc[i]['senders_address']\n",
    "    current_time = df.iloc[i]['transaction_timestamp']\n",
    "\n",
    "    # Define the 12-hour window start time\n",
    "    window_start = current_time - pd.Timedelta(hours=12)\n",
    "\n",
    "    # Store transaction timestamps for each user\n",
    "    transaction_counts[current_user].append(current_time)\n",
    "\n",
    "    # Keep only transactions within the 12-hour window\n",
    "    transaction_counts[current_user] = [ts for ts in transaction_counts[current_user] if ts >= window_start]\n",
    "\n",
    "    # Set the transaction frequency for the current row to the number of transactions within the time window\n",
    "    df.at[i, 'trans_freq'] = len(transaction_counts[current_user])\n"
   ]
  },
  {
   "cell_type": "code",
   "execution_count": null,
   "id": "70d67dce-a564-4fd1-8a9d-2065b214c010",
   "metadata": {},
   "outputs": [],
   "source": [
    "df[:10]"
   ]
  },
  {
   "cell_type": "code",
   "execution_count": null,
   "id": "61692649-ebd6-4d63-a302-7d7f7afa00a7",
   "metadata": {},
   "outputs": [],
   "source": [
    "# Convert string to datetime and create a temporary column\n",
    "df['temp_timestamp'] = pd.to_datetime(df['transaction_timestamp'])\n",
    "\n",
    "# Set the launch dates for Layer 2 solutions\n",
    "optimism_launch = datetime(2021, 1, 16)\n",
    "arbitrum_launch = datetime(2021, 8, 31)\n",
    "\n",
    "# Add the 'layer2_availability' column\n",
    "df['layer2_availability'] = ((df['temp_timestamp'] >= arbitrum_launch) | (df['temp_timestamp'] >= optimism_launch)).astype(int)\n",
    "\n",
    "# Add the 'post_eip1559' column. \n",
    "# EIP-1559 went live on August 5, 2021\n",
    "eip1559_launch_date = datetime(2021, 8, 5)\n",
    "df['post_eip1559'] = (df['temp_timestamp'] >= eip1559_launch_date).astype(int)\n",
    "\n",
    "# Drop the temporary column\n",
    "df = df.drop('temp_timestamp', axis=1)"
   ]
  },
  {
   "cell_type": "code",
   "execution_count": null,
   "id": "7efb7baa-46fb-4e3e-a0f0-48bd7972a38d",
   "metadata": {},
   "outputs": [],
   "source": [
    "df[:10]"
   ]
  },
  {
   "cell_type": "markdown",
   "id": "befd44fa-3a18-43f8-94d7-39f749cb6d8b",
   "metadata": {},
   "source": [
    "---\n",
    "1. **User transaction count**: The cumulative number of transactions made by the same user up to the current transaction.\n",
    "2. **Failed transactions**: the cumulative number of failed transactions by the same user up to the current transaction"
   ]
  },
  {
   "cell_type": "code",
   "execution_count": null,
   "id": "57520029-c8ee-49ad-bb68-30d54a81c5cf",
   "metadata": {},
   "outputs": [],
   "source": [
    "# Create a new column that is 1 if the transaction failed and 0 otherwise\n",
    "df['is_failed'] = (df['transaction_status'] == 'False').astype(int)\n",
    "\n",
    "# Group by user address and calculate the cumulative count of transactions and failed transactions\n",
    "df = df.sort_values('transaction_timestamp')\n",
    "df['user_transaction_count'] = df.groupby('senders_address').cumcount() + 1\n",
    "df['failed_transactions'] = df.groupby('senders_address')['is_failed'].cumsum()\n",
    "\n",
    "# You can drop the 'is_failed' column if you no longer need it\n",
    "df = df.drop('is_failed', axis=1)\n",
    "df[:10]"
   ]
  },
  {
   "cell_type": "markdown",
   "id": "4ee14327-23a5-4ffa-a296-22e58a102fdf",
   "metadata": {},
   "source": [
    "In this script, we first created a new column `is_failed` that is 1 if the transaction failed and 0 otherwise. We then sorted the dataframe by the transaction timestamp to ensure transactions are processed in the order they occurred. \n",
    "\n",
    "Next, we grouped the dataframe by the sender's address and used `cumcount` to get the cumulative count of transactions for each user (we added 1 because `cumcount` starts from 0). We also used `cumsum` on the `is_failed` column to get the cumulative count of failed transactions for each user. \n",
    "\n",
    "Finally, we dropped the `is_failed` column as it's no longer needed.\n",
    "\n",
    "---"
   ]
  },
  {
   "cell_type": "code",
   "execution_count": null,
   "id": "5c0c9adf-b010-49c8-b17f-412c7e1068e1",
   "metadata": {},
   "outputs": [],
   "source": [
    "df.columns"
   ]
  },
  {
   "cell_type": "markdown",
   "id": "076ec8da-9779-419d-8478-4b3517aa50ff",
   "metadata": {},
   "source": [
    "---\n",
    "Derive User Address Age\n",
    "\n",
    "We are using 'eth.getTransactionCount' function from web3.py, which retrieves the number of transactions sent from an address up until a certain block. Using this function, we can find the block at which the address was first used.\n",
    "\n",
    "\n",
    "In the script below, for each transaction in the dataframe, the script scans blocks from the genesis block to the block of the transaction. If the address has made any transactions up to a block, it means that this block is the first usage block of the address, so it's saved to the `first_usage` dictionary. The `get_transaction_count` function is used to get the number of transactions sent from an address up to a certain block. After finding the first usage block of each address, the script adds a new column 'address_age' to the data, which represents the age of the address at the time of each transaction.\n",
    "\n",
    "The above solution is likely to be slow if you have a large number of unique addresses and transactions. It's because for each address, it scans blocks from the genesis block to the block of each transaction of the address. If you have a large number of unique addresses, the total number of blocks to scan can be enormous.\n",
    "\n",
    "To optimize the calculation of user address age and utilize a high-performance computing cluster, we could use parallel computing techniques. This involves dividing the computation task into smaller jobs that can be run simultaneously across multiple processors or nodes in the cluster.\n",
    "\n",
    "In Python, several libraries allow you to use parallel computing, such as `multiprocessing`, `concurrent.futures`, and `joblib`. Here's an example of how you could use the `concurrent.futures` library to parallelize the block scanning task. This script uses a `ThreadPoolExecutor` to run multiple block scanning tasks simultaneously, which should significantly speed up the process if you're running it on a machine with multiple CPU cores. However, the maximum number of concurrent tasks is limited by the number of CPU cores in your machine."
   ]
  },
  {
   "cell_type": "code",
   "execution_count": null,
   "id": "9f7cf3ab-0492-4c76-9cbb-d14bb4a1e78d",
   "metadata": {},
   "outputs": [],
   "source": [
    "# Function to find the first usage block of an address\n",
    "def find_first_usage(address, transaction_block):\n",
    "    # Scan blocks from the start block to the transaction block\n",
    "    for block in range(start_block, transaction_block):\n",
    "        # If the address has made any transactions up to the block\n",
    "        if web3.eth.get_transaction_count(address, block):\n",
    "            return block\n",
    "    return None"
   ]
  },
  {
   "cell_type": "code",
   "execution_count": null,
   "id": "e67c5c3f-0bf0-490f-9865-9dcb3a5e2a4c",
   "metadata": {},
   "outputs": [],
   "source": [
    "# Sort by block number\n",
    "df.sort_values(['block_number'], inplace=True)\n",
    "\n",
    "# Prepare a dictionary to store the first usage block of each address\n",
    "first_usage = {}\n",
    "\n",
    "# Define the range of blocks to scan\n",
    "start_block = 0  # This should be set to the genesis block\n",
    "\n",
    "# Create a ThreadPoolExecutor\n",
    "with concurrent.futures.ThreadPoolExecutor() as executor:\n",
    "    # For each unique address in the data\n",
    "    for address in df['senders_address'].unique():\n",
    "        transaction_block = df[df['senders_address'] == address]['block_number'].min()\n",
    "        \n",
    "        # If the first usage block of the address has already been found, skip this address\n",
    "        if address in first_usage:\n",
    "            continue\n",
    "        \n",
    "        # Submit a new task to the executor\n",
    "        future = executor.submit(find_first_usage, address, transaction_block)\n",
    "        \n",
    "        # Store the Future object in the dictionary\n",
    "        first_usage[address] = future\n",
    "\n",
    "# Retrieve the results from the Future objects\n",
    "for address, future in first_usage.items():\n",
    "    first_usage[address] = future.result()\n",
    "\n",
    "# Add a new column 'address_age' to the data\n",
    "df['address_age'] = df['senders_address'].map(first_usage)\n",
    "\n",
    "df[:10]"
   ]
  },
  {
   "cell_type": "markdown",
   "id": "57df0f47-2c25-41bd-b611-7cb62a8e7711",
   "metadata": {},
   "source": [
    "---\n",
    "\n",
    "**Time of the day variable**\n",
    "\n",
    "Due to the global nature of Ethereum transactions, the \"time of day\" variable could have different implications for users in different time zones, and this could indeed introduce complexity and potentially confounding effects into the analysis.\n",
    "\n",
    "However, there may still be value in including a \"time of day\" variable, even in a global context, for several reasons:\n",
    "\n",
    "1. **Network Effects**: Blockchain networks like Ethereum may experience periods of higher and lower congestion, which could align with certain times of day, despite global usage. For example, if a substantial proportion of Ethereum users are based in a particular region (say, North America or East Asia), then the network might be busier during the waking hours of that region.\n",
    "\n",
    "2. **Market Activity**: Cryptocurrency markets operate 24/7 and market activity (trading volume, price volatility, etc.) can vary significantly across different times of the day, potentially influencing user behavior. For example, users might be more likely to engage in DeFi transactions during periods of high market activity.\n",
    "\n",
    "3. **Behavioral Patterns**: Regardless of the global nature of Ethereum, there might be common daily behavioral patterns. For example, users might be more active during their daytime and less active during their nighttime, and these patterns could aggregate up to observable patterns in the data.\n",
    "\n",
    "However, given the global nature, it may be advisable to construct the \"time of day\" variable in a way that captures potential global effects. For example, you could split the day into fewer, larger chunks (like morning, afternoon, evening, and night), or analyze this variable carefully in your exploratory analysis to understand its distribution and potential impacts.\n",
    "\n",
    "Another approach might be to construct a variable that captures the \"local time of day\" for each transaction, assuming you can infer or have information about the geographic location of each user (which could introduce privacy issues and may not be feasible). But again, these are more complex and may not necessarily offer a better representation.\n",
    "\n",
    "Finally, including \"time of day\" in your initial model does not obligate you to keep it in your final model. If exploratory analysis or preliminary model results suggest it's not meaningful or is causing issues, you can always exclude it in later iterations of your modeling process.\n",
    "\n",
    "In conclusion, the \"time of day\" could potentially be a meaningful variable in your analysis, but its use and interpretation require careful consideration due to the global nature of Ethereum usage."
   ]
  },
  {
   "cell_type": "markdown",
   "id": "41073c20-533b-4862-a2f6-3ac84973fb97",
   "metadata": {},
   "source": [
    "Given the global nature of Ethereum, a simple division of a day into distinct periods based on a specific time zone may not be the most representative. However, a potential solution could be to divide the day into a number of periods that are likely to capture significant changes in activity. For instance:\n",
    "\n",
    "1. **Daytime**: 06:00 to 17:59\n",
    "2. **Evening**: 18:00 to 21:59\n",
    "3. **Night**: 22:00 to 05:59\n",
    "\n",
    "This division attempts to capture typical working hours (daytime), after-work hours (evening), and sleeping hours (night). Of course, given the global nature of the network, these periods won't align perfectly with these times for all users, but they might serve as a useful approximation.\n",
    "\n",
    "If it's possible to incorporate additional information, such as the geographic distribution of Ethereum users or the times of day that tend to see the most network activity, this could be used to refine these periods further.\n",
    "\n",
    "You can then create a new variable, \"TimeOfDay\", in your dataset by mapping each transaction timestamp to one of these periods.\n",
    "\n",
    "Here's a Python script to do that assuming your timestamp is in the form 'YYYY-MM-DD HH:MM:SS' and in UTC:"
   ]
  },
  {
   "cell_type": "code",
   "execution_count": null,
   "id": "6f11eef1-b935-4cef-93b8-89357704b1bb",
   "metadata": {},
   "outputs": [],
   "source": [
    "def assign_time_of_day(timestamp):\n",
    "    hour = timestamp.hour\n",
    "    if 6 <= hour < 18:\n",
    "        return 'Daytime'\n",
    "    elif 18 <= hour < 22:\n",
    "        return 'Evening'\n",
    "    else:\n",
    "        return 'Night'\n",
    "\n",
    "df['time_of_day'] = df['transaction_timestamp'].apply(assign_time_of_day)"
   ]
  },
  {
   "cell_type": "code",
   "execution_count": null,
   "id": "668eeb7d-e72f-4446-8d72-7a8a7b2047ef",
   "metadata": {},
   "outputs": [],
   "source": []
  }
 ],
 "metadata": {
  "kernelspec": {
   "display_name": "jom-blockchain",
   "language": "python",
   "name": "jom-blockchain-research"
  },
  "language_info": {
   "codemirror_mode": {
    "name": "ipython",
    "version": 3
   },
   "file_extension": ".py",
   "mimetype": "text/x-python",
   "name": "python",
   "nbconvert_exporter": "python",
   "pygments_lexer": "ipython3",
   "version": "3.11.3"
  }
 },
 "nbformat": 4,
 "nbformat_minor": 5
}
