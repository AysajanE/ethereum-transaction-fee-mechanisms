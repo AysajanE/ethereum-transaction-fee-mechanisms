{
 "cells": [
  {
   "cell_type": "markdown",
   "id": "bc7fcb88-e91f-466a-bd78-bd939066170d",
   "metadata": {},
   "source": [
    "# Transaction Data Collection from the Ethereum Blockchain\n",
    "\n",
    "## EIP-1559\n",
    "- Date: August 5, 2021\n",
    "- Block number: 12,965,000\n",
    "- [Ethereum JSON-RPC Specification](https://ethereum.github.io/execution-apis/api-documentation/)\n",
    "- [JSON RPC API](https://ethereum.org/en/developers/docs/apis/json-rpc/)\n",
    "- [EIP-1559 Analysis Arxiv](https://github.com/SciEcon/EIP1559)\n",
    "\n",
    "## Layer 2 Solutions Launch Dates\n",
    "Source: [L2BEAT](https://l2beat.com/scaling/tvl)\n",
    "1. Optimism is live on: January 16, 2021\n",
    "2. Arbitrum is live on: August 31, 2021"
   ]
  },
  {
   "cell_type": "code",
   "execution_count": null,
   "id": "b96bfeff-e267-40ec-9123-6cd03d04db92",
   "metadata": {},
   "outputs": [],
   "source": [
    "# !pip install web3\n",
    "# !pip install pandas"
   ]
  },
  {
   "cell_type": "code",
   "execution_count": 1,
   "id": "4d46b85a-a478-4e4c-b1f5-0ccc63b33ba3",
   "metadata": {},
   "outputs": [],
   "source": [
    "import datetime\n",
    "import csv\n",
    "import os\n",
    "import glob\n",
    "from datetime import datetime\n",
    "import time\n",
    "\n",
    "import concurrent.futures\n",
    "from concurrent.futures import ThreadPoolExecutor\n",
    "from concurrent.futures import ProcessPoolExecutor\n",
    "from multiprocessing import cpu_count\n",
    "\n",
    "import pandas as pd\n",
    "from collections import defaultdict\n",
    "\n",
    "from web3 import Web3\n",
    "import eth_abi"
   ]
  },
  {
   "cell_type": "code",
   "execution_count": 2,
   "id": "30c21d92-0239-43d4-b610-c016dc9e7809",
   "metadata": {},
   "outputs": [],
   "source": [
    "def setup_web3(endpoint):\n",
    "    \"\"\"\n",
    "    Initialize a Web3 instance with the given endpoint.\n",
    "    \n",
    "    Args:\n",
    "        endpoint (str): The HTTP provider endpoint to connect to.\n",
    "    \n",
    "    Returns:\n",
    "        Web3: A Web3 instance connected to the provided endpoint.\n",
    "    \"\"\"\n",
    "    return Web3(Web3.HTTPProvider(endpoint))"
   ]
  },
  {
   "cell_type": "markdown",
   "id": "9edbaf9d-3919-4a40-a0bb-89d5971944b2",
   "metadata": {},
   "source": [
    "---\n",
    "Here is a Python function that uses binary search to find the block number for a given timestamp. This function accepts a target timestamp (in seconds), a Web3 instance for blockchain interaction, and optionally a start and end block to search between. If end_block is not specified, the search is performed up to the latest block. The function performs a binary search to find the block with the timestamp closest to the target."
   ]
  },
  {
   "cell_type": "code",
   "execution_count": 3,
   "id": "6128aecd-9417-4497-a787-3c3f740e5727",
   "metadata": {},
   "outputs": [],
   "source": [
    "def get_block_number_by_timestamp(web3, target_timestamp, start_block=0, end_block=None):\n",
    "    \"\"\"\n",
    "    Retrieve the block number for a specific timestamp using binary search.\n",
    "    \n",
    "    Args:\n",
    "        web3 (Web3): A Web3 instance for interacting with the Ethereum blockchain.\n",
    "        target_timestamp (int): The timestamp (in seconds) to find the block for.\n",
    "        start_block (int, optional): The block number to start the search from. Defaults to 0.\n",
    "        end_block (int, optional): The block number to end the search at. If None, the latest block number is used.\n",
    "    \n",
    "    Returns:\n",
    "        int: The block number closest to the target timestamp.\n",
    "    \"\"\"\n",
    "    if end_block is None:\n",
    "        end_block = web3.eth.block_number  # Use the latest block number if end_block is not specified\n",
    "    \n",
    "    while start_block <= end_block:\n",
    "        mid_block = (start_block + end_block) // 2\n",
    "        mid_block_timestamp = web3.eth.get_block(mid_block)['timestamp']\n",
    "        \n",
    "        if target_timestamp < mid_block_timestamp:\n",
    "            end_block = mid_block - 1\n",
    "        elif target_timestamp > mid_block_timestamp:\n",
    "            start_block = mid_block + 1\n",
    "        else:\n",
    "            return mid_block\n",
    "\n",
    "    # If exact timestamp is not found, return the closest block\n",
    "    if abs(web3.eth.get_block(start_block)['timestamp'] - target_timestamp) < abs(web3.eth.get_block(end_block)['timestamp'] - target_timestamp):\n",
    "        return start_block\n",
    "    else:\n",
    "        return end_block"
   ]
  },
  {
   "cell_type": "markdown",
   "id": "3df22490-ef18-48e8-aace-0b6b195946ff",
   "metadata": {},
   "source": [
    "To use this function, you would first convert your dates to Unix timestamps (seconds since Jan 1, 1970). You can do this using Python's built-in datetime module:"
   ]
  },
  {
   "cell_type": "code",
   "execution_count": 4,
   "id": "600db6e9-0b3a-4705-975d-7b3c6fc6fa1e",
   "metadata": {},
   "outputs": [],
   "source": [
    "def timestamp(date_string):\n",
    "    \"\"\"\n",
    "    Convert a date string to a Unix timestamp.\n",
    "    \n",
    "    Args:\n",
    "        date_string (str): The date string in 'YYYY-MM-DD' format.\n",
    "    \n",
    "    Returns:\n",
    "        int: The Unix timestamp corresponding to the date string.\n",
    "    \"\"\"\n",
    "    dt = datetime.strptime(date_string, \"%Y-%m-%d\")\n",
    "    return int(dt.timestamp())\n"
   ]
  },
  {
   "cell_type": "markdown",
   "id": "d6e6342e-1042-4233-815c-3699ec450ad4",
   "metadata": {},
   "source": [
    "---\n",
    "To implement the token transfer detection, you would need the `eth_abi` package to decode contract input data and a way to check if a given address is a contract address. However, please note that correctly detecting and classifying all Ethereum transaction types with 100% accuracy is a complex task and requires deep analysis of the input data and possibly contract state. Therefore, the following simplified approach may not catch every edge case."
   ]
  },
  {
   "cell_type": "code",
   "execution_count": 5,
   "id": "b7a79f30-fca3-44fc-9bf0-ef43f565d6fc",
   "metadata": {},
   "outputs": [],
   "source": [
    "def is_contract(web3, address):\n",
    "    \"\"\"\n",
    "    Determine if an address is a contract address.\n",
    "    \"\"\"\n",
    "    return web3.eth.get_code(address) != b''"
   ]
  },
  {
   "cell_type": "markdown",
   "id": "5b53ec6c-9696-4ff9-86e4-b714347a4397",
   "metadata": {},
   "source": [
    "The process to identify if a transaction is a simple Ether transfer, Token transfer, or Smart contract interaction is not straightforward because of the versatile nature of Ethereum transactions. \n",
    "\n",
    "1. **Simple Ether Transfers:** These are transactions where Ether is transferred from one account to another. These transactions can be identified by checking if the `input` data field is '0x' (i.e., empty) and the `to` field is not a contract address (it doesn't have associated bytecode).\n",
    "\n",
    "2. **Token Transfers (ERC-20, ERC-721, etc.):** These are transactions where tokens (like USDT, DAI, etc.) are transferred. Token transfers follow a standard set of rules defined in the ERC-20 or ERC-721 specifications. One of the main methods in these specifications is `transfer(...)`. When this method is called, the `input` data field in the transaction starts with the method ID derived from the keccak256 hash of the method signature. For example, the `transfer(...)` method's ID is '0xa9059cbb'. So, you could identify ERC-20 token transfers by checking if the `input` field starts with this method ID. However, this check can yield false positives, as other contracts can use the same method ID for different purposes. Identifying ERC-721 (NFT) transfers can be more challenging, as multiple methods (`safeTransferFrom(...)`, `transferFrom(...)`, etc.) can be used to transfer tokens. \n",
    "\n",
    "3. **Smart Contract Interactions:** If the `input` data field is not '0x' (empty), and the `input` does not correspond to a standard ERC-20 or ERC-721 token transfer, you can classify the transaction as a smart contract interaction.\n",
    "\n",
    "Please note that these checks provide a rough classification of the transactions but aren't perfect. For example, they don't account for cases where a single transaction involves both Ether and token transfers or multiple types of contract interactions. Further, they don't cover all token standards (like ERC-1155, which allows for both fungible and non-fungible tokens).\n",
    "\n",
    "As a result, if you need a precise classification of transaction types, you might need to employ more sophisticated methods, such as analyzing the bytecode of contracts, tracking the state changes of known contracts, or using specialized services or libraries that provide this kind of analysis.\n",
    "\n",
    "---"
   ]
  },
  {
   "cell_type": "markdown",
   "id": "a18d821b-b2c6-41ae-aab6-d471caaae045",
   "metadata": {},
   "source": [
    "## Data Collection\n",
    "\n",
    "For the data collection, we use Python's `concurrent.futures` library to parallelize the extraction of block data. The key here is to split the block range into smaller ranges, and handle each of these ranges concurrently using a separate thread."
   ]
  },
  {
   "cell_type": "code",
   "execution_count": 6,
   "id": "cf56d5be-143d-48e5-911a-99bdf26fca9a",
   "metadata": {},
   "outputs": [],
   "source": [
    "def extract_block_data(web3, block):\n",
    "    \"\"\"\n",
    "    Extracts transaction data from a block.\n",
    "    \"\"\"\n",
    "    ERC20_TRANSFER_SIGNATURE = '0xa9059cbb'\n",
    "    EIP_1559_ACTIVATION_BLOCK = 12965000 # Block at which EIP-1559 was activated\n",
    "    \n",
    "    block_data = web3.eth.get_block(block, full_transactions=True)\n",
    "    data = []\n",
    "    for tx in block_data['transactions']:\n",
    "        # Define transaction type\n",
    "        if tx['to'] is None:  # handle contract creation\n",
    "            tx_type = 'Contract Creation'\n",
    "        elif tx['input'] == '0x' and not is_contract(web3, tx['to']):\n",
    "            tx_type = 'Simple Ether Transfer'\n",
    "        elif tx['input'][:10] == ERC20_TRANSFER_SIGNATURE:\n",
    "            tx_type = 'ERC20 Transfer'\n",
    "        else:\n",
    "            tx_type = 'Interaction with a Contract'\n",
    "\n",
    "        # Define EIP-1559 type\n",
    "        if block < EIP_1559_ACTIVATION_BLOCK:\n",
    "            eip_1559_type = 'Legacy'\n",
    "        else:\n",
    "            eip_1559_type = 'Legacy' if tx['type'] in [0, 1] else 'EIP-1559' if tx['type'] == 2 else 'Unknown'\n",
    "\n",
    "\n",
    "        tx_data = {\n",
    "            'Transaction Identifier': tx['hash'].hex(),\n",
    "            'Block Number': block,\n",
    "            'Transaction Timestamp': block_data['timestamp'],\n",
    "            'Transaction Status': 'Success' if tx['to'] is not None else 'Failed',\n",
    "            'Gas Price': tx['gasPrice'],\n",
    "            'Transaction Fee': tx['gas'] * tx['gasPrice'],\n",
    "            'Sender\\'s Address': tx['from'],\n",
    "            'Transaction Type': tx_type,\n",
    "            'Transaction EIP-1559 Type': eip_1559_type\n",
    "        }\n",
    "        data.append(tx_data)\n",
    "    return data"
   ]
  },
  {
   "cell_type": "code",
   "execution_count": 7,
   "id": "3200d735-543e-4349-bba2-5dd076258f31",
   "metadata": {},
   "outputs": [],
   "source": [
    "def extract_block_data_wrapper(args):\n",
    "    block = args[0]\n",
    "    node_url = args[1]  # We're passing the URL here instead of the Web3 object\n",
    "\n",
    "    # Re-initialize the Web3 object here\n",
    "    web3 = Web3(Web3.HTTPProvider(node_url))\n",
    "\n",
    "    return extract_block_data(web3, block)"
   ]
  },
  {
   "cell_type": "code",
   "execution_count": 8,
   "id": "63646323-8924-42c4-97bc-65710f8fc359",
   "metadata": {},
   "outputs": [],
   "source": [
    "def collect_data(node_url, start_block, end_block):\n",
    "    \"\"\"\n",
    "    Collect transaction data from a range of blocks on the Ethereum blockchain.\n",
    "    \"\"\"\n",
    "    csvfile = None\n",
    "    writer = None\n",
    "    last_date_str = None\n",
    "    daily_transactions = []\n",
    "\n",
    "    # Define the chunk size for the executor\n",
    "    chunk_size = 10\n",
    "\n",
    "    # Use the ProcessPoolExecutor for multiprocessing\n",
    "    with ProcessPoolExecutor(max_workers=cpu_count()) as executor:\n",
    "        for block_data in executor.map(extract_block_data_wrapper, [(block, node_url) for block in range(start_block, end_block + 1)], chunksize=chunk_size):\n",
    "            for tx_data in block_data:\n",
    "                date_str = datetime.utcfromtimestamp(tx_data['Transaction Timestamp']).strftime('%Y-%m-%d')\n",
    "\n",
    "                # If date has changed, write daily transactions to file and start a new day\n",
    "                if date_str != last_date_str:\n",
    "                    if csvfile is not None:\n",
    "                        writer.writerows(daily_transactions)\n",
    "                        csvfile.close()\n",
    "\n",
    "                    file_name = f\"../data/eth_transaction_data_{date_str}.csv\"\n",
    "                    csvfile = open(file_name, 'a', newline='')\n",
    "                    fieldnames = list(tx_data.keys())\n",
    "                    writer = csv.DictWriter(csvfile, fieldnames=fieldnames)\n",
    "\n",
    "                    # Write header only if the file is newly created\n",
    "                    if csvfile.tell() == 0:\n",
    "                        writer.writeheader()\n",
    "\n",
    "                    daily_transactions = []\n",
    "                    last_date_str = date_str\n",
    "\n",
    "                daily_transactions.append(tx_data)\n",
    "\n",
    "    # Write transactions for the last day and close the file\n",
    "    if csvfile is not None:\n",
    "        writer.writerows(daily_transactions)\n",
    "        csvfile.close()"
   ]
  },
  {
   "cell_type": "markdown",
   "id": "b00652f2-ea8f-48b0-892b-875f3986ac68",
   "metadata": {},
   "source": [
    "This script above now identifies simple Ether transfers, token transfers, and smart contract interactions according to the descriptions. It uses the `getCode` function to check if the `to` address is a contract, and checks the first 4 bytes (8 hex characters) of the `input` field against the method ID for the ERC-20 `transfer` function to identify token transfers. If the `input` field is not empty and doesn't correspond to a token transfer, the transaction is classified as a smart contract interaction.\n",
    "\n",
    "In this code, the `ThreadPoolExecutor` manages a pool of worker threads. The `executor.map` function is used to apply the `extract_block_data` function to each block number in the specified range. The result is a list of transaction data for each block, which is then appended to the data list.\n",
    "\n",
    "This approach should significantly speed up data collection by utilizing multiple cores and threads on your machine. The actual speedup depends on the number of cores and threads your machine has, as well as other factors like network latency and the I/O performance of your machine.\n",
    "\n",
    "---"
   ]
  },
  {
   "cell_type": "markdown",
   "id": "55c989cb-b199-439d-b822-a32e9acacf98",
   "metadata": {},
   "source": [
    "## Steps to Collect Data"
   ]
  },
  {
   "cell_type": "markdown",
   "id": "d92c11e4-2685-4164-966f-4aef6ccef312",
   "metadata": {},
   "source": [
    "### Step 1: Initialize a Web3 instance with Infura endpoint or local Ethereum node."
   ]
  },
  {
   "cell_type": "code",
   "execution_count": 9,
   "id": "bac06d93-78be-4e54-9546-2bf8bf51bac3",
   "metadata": {},
   "outputs": [
    {
     "name": "stdout",
     "output_type": "stream",
     "text": [
      "True\n"
     ]
    }
   ],
   "source": [
    "# # Use Infura API endpoint\n",
    "# infura_url = os.getenv(\"INFURA_MAINNET_URL\")\n",
    "\n",
    "# if not infura_url:\n",
    "#     raise ValueError(\"INFURA_URL is not set in the environment variables\")\n",
    "\n",
    "# web3 = setup_web3(infura_url)\n",
    "\n",
    "# Use Ethereum node on local machine\n",
    "node_url = 'http://localhost:8545'\n",
    "web3 = Web3(Web3.HTTPProvider(node_url))\n",
    "\n",
    "print(web3.is_connected())  # should return True if the connection is successful"
   ]
  },
  {
   "cell_type": "markdown",
   "id": "97803d93-be43-4e64-b193-8cca2b32de85",
   "metadata": {},
   "source": [
    "### Step 2: Convert my start and end dates to Unix timestamps and then to block numbers."
   ]
  },
  {
   "cell_type": "code",
   "execution_count": 11,
   "id": "fd293df6-3407-4073-a1b8-4d40c30050ab",
   "metadata": {},
   "outputs": [
    {
     "name": "stdout",
     "output_type": "stream",
     "text": [
      "The block number at 2021-02-05 is 11794239\n",
      "The block number at 2022-02-05 is 14143963\n"
     ]
    }
   ],
   "source": [
    "# Run only once to get the start block and end block for the specified time period\n",
    "start_date = \"2021-02-05\"\n",
    "end_date = \"2022-02-05\"\n",
    "\n",
    "start_timestamp = timestamp(start_date)\n",
    "end_timestamp = timestamp(end_date)\n",
    "\n",
    "start_block = get_block_number_by_timestamp(web3, start_timestamp)\n",
    "end_block = get_block_number_by_timestamp(web3, end_timestamp)\n",
    "\n",
    "print(f\"The block number at {start_date} is {start_block}\")\n",
    "print(f\"The block number at {end_date} is {end_block}\")"
   ]
  },
  {
   "cell_type": "markdown",
   "id": "f8663ec0-4171-4c79-808d-2783c1d224fb",
   "metadata": {},
   "source": [
    "### Step 3: Collect the transaction data \\& write to CSV files, one file for each day"
   ]
  },
  {
   "cell_type": "code",
   "execution_count": null,
   "id": "ea9e3fac-f0da-45ba-ba3a-5e13c9fa4afe",
   "metadata": {},
   "outputs": [],
   "source": [
    "# Record start time\n",
    "start_time = time.time()\n",
    "\n",
    "# Call `collect_data` function\n",
    "collect_data(node_url, start_block, end_block)\n",
    "\n",
    "# Record the end time\n",
    "end_time = time.time()\n",
    "\n",
    "# Calculate the difference in seconds, then convert to minute\n",
    "execution_time_minutes = (end_time - start_time) / 60\n",
    "\n",
    "print(f\"The code took {execution_time_minutes} minutes to run.\")"
   ]
  }
 ],
 "metadata": {
  "kernelspec": {
   "display_name": "jom-blockchain",
   "language": "python",
   "name": "jom-blockchain-research"
  },
  "language_info": {
   "codemirror_mode": {
    "name": "ipython",
    "version": 3
   },
   "file_extension": ".py",
   "mimetype": "text/x-python",
   "name": "python",
   "nbconvert_exporter": "python",
   "pygments_lexer": "ipython3",
   "version": "3.11.3"
  }
 },
 "nbformat": 4,
 "nbformat_minor": 5
}
